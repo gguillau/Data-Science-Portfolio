{
 "cells": [
  {
   "cell_type": "markdown",
   "metadata": {},
   "source": [
    "# Project Instructions\n",
    "It's necessary to develop a data transformation algorithm that would make it hard to recover personal information if the data fell into the wrong hands. This is called data masking, or data obfuscation. But the data should be protected in such a way that the quality of machine learning models doesn't suffer. You don't need to pick the best model, just prove that the algorithm works correctly.\n",
    "\n",
    "- Load the data.\n",
    "- Check that the data is free of issues — there is no missing data, extreme values, and so on.\n",
    "- Work on each task and answer the questions posed in the project template.\n",
    "- Draw conclusions based on your experience working on the project.\n",
    "- There is some precode in the project template, feel free to use it, some precode needs to be finished first. \n",
    "- Also, -there are two appendices in the project template with useful information.\n",
    "\n",
    "# Data Description\n",
    "- Features: insured person's gender, age, salary, and number of family members.\n",
    "- Target: number of insurance benefits received by an insured person over the last five years.\n"
   ]
  },
  {
   "cell_type": "markdown",
   "metadata": {},
   "source": [
    "# Statement"
   ]
  },
  {
   "cell_type": "markdown",
   "metadata": {},
   "source": [
    "The Sure Tomorrow insurance company wants to solve several tasks with the help of Machine Learning and you are asked to evaluate that possibility.\n",
    "\n",
    "- Task 1: Find customers who are similar to a given customer. This will help the company's agents with marketing.\n",
    "- Task 2: Predict whether a new customer is likely to receive an insurance benefit. Can a prediction model do better than a dummy model?\n",
    "- Task 3: Predict the number of insurance benefits a new customer is likely to receive using a linear regression model.\n",
    "- Task 4: Protect clients' personal data without breaking the model from the previous task. It's necessary to develop a data transformation algorithm that would make it hard to recover personal information if the data fell into the wrong hands. This is called data masking, or data obfuscation. But the data should be protected in such a way that the quality of machine learning models doesn't suffer. You don't need to pick the best model, just prove that the algorithm works correctly."
   ]
  },
  {
   "cell_type": "markdown",
   "metadata": {},
   "source": [
    "## Data Preprocessing & Exploration\n",
    "\n",
    "### Initialization"
   ]
  },
  {
   "cell_type": "code",
   "execution_count": 1,
   "metadata": {},
   "outputs": [
    {
     "name": "stdout",
     "output_type": "stream",
     "text": [
      "Requirement already satisfied: scikit-learn in /opt/conda/lib/python3.9/site-packages (0.24.1)\n",
      "Collecting scikit-learn\n",
      "  Downloading scikit_learn-1.1.2-cp39-cp39-manylinux_2_17_x86_64.manylinux2014_x86_64.whl (30.8 MB)\n",
      "\u001b[K     |████████████████████████████████| 30.8 MB 35.6 MB/s eta 0:00:01\n",
      "\u001b[?25hRequirement already satisfied: threadpoolctl>=2.0.0 in /opt/conda/lib/python3.9/site-packages (from scikit-learn) (3.1.0)\n",
      "Requirement already satisfied: scipy>=1.3.2 in /opt/conda/lib/python3.9/site-packages (from scikit-learn) (1.8.0)\n",
      "Requirement already satisfied: joblib>=1.0.0 in /opt/conda/lib/python3.9/site-packages (from scikit-learn) (1.1.0)\n",
      "Requirement already satisfied: numpy>=1.17.3 in /opt/conda/lib/python3.9/site-packages (from scikit-learn) (1.21.1)\n",
      "Installing collected packages: scikit-learn\n",
      "  Attempting uninstall: scikit-learn\n",
      "    Found existing installation: scikit-learn 0.24.1\n",
      "    Uninstalling scikit-learn-0.24.1:\n",
      "\u001b[31mERROR: Could not install packages due to an OSError: [Errno 13] Permission denied: 'COPYING'\n",
      "Consider using the `--user` option or check the permissions.\n",
      "\u001b[0m\n",
      "Note: you may need to restart the kernel to use updated packages.\n"
     ]
    }
   ],
   "source": [
    "pip install scikit-learn --upgrade"
   ]
  },
  {
   "cell_type": "code",
   "execution_count": 2,
   "metadata": {},
   "outputs": [],
   "source": [
    "import numpy as np\n",
    "import pandas as pd\n",
    "import matplotlib.pyplot as plt\n",
    "import math\n",
    "\n",
    "\n",
    "import seaborn as sns\n",
    "\n",
    "import sklearn.linear_model\n",
    "import sklearn.metrics\n",
    "import sklearn.neighbors\n",
    "import sklearn.preprocessing\n",
    "\n",
    "from sklearn.model_selection import train_test_split\n",
    "\n",
    "from IPython.display import display"
   ]
  },
  {
   "cell_type": "markdown",
   "metadata": {},
   "source": [
    "### Load Data"
   ]
  },
  {
   "cell_type": "markdown",
   "metadata": {},
   "source": [
    "Load data and conduct a basic check that it's free from obvious issues."
   ]
  },
  {
   "cell_type": "code",
   "execution_count": 3,
   "metadata": {},
   "outputs": [],
   "source": [
    "df = pd.read_csv('/datasets/insurance_us.csv')"
   ]
  },
  {
   "cell_type": "markdown",
   "metadata": {},
   "source": [
    "We rename the colums to make the code look more consistent with its style."
   ]
  },
  {
   "cell_type": "code",
   "execution_count": 4,
   "metadata": {},
   "outputs": [],
   "source": [
    "df = df.rename(columns={'Gender': 'gender', 'Age': 'age', 'Salary': 'income', 'Family members': 'family_members', 'Insurance benefits': 'insurance_benefits'})"
   ]
  },
  {
   "cell_type": "code",
   "execution_count": 5,
   "metadata": {},
   "outputs": [
    {
     "data": {
      "text/html": [
       "<div>\n",
       "<style scoped>\n",
       "    .dataframe tbody tr th:only-of-type {\n",
       "        vertical-align: middle;\n",
       "    }\n",
       "\n",
       "    .dataframe tbody tr th {\n",
       "        vertical-align: top;\n",
       "    }\n",
       "\n",
       "    .dataframe thead th {\n",
       "        text-align: right;\n",
       "    }\n",
       "</style>\n",
       "<table border=\"1\" class=\"dataframe\">\n",
       "  <thead>\n",
       "    <tr style=\"text-align: right;\">\n",
       "      <th></th>\n",
       "      <th>gender</th>\n",
       "      <th>age</th>\n",
       "      <th>income</th>\n",
       "      <th>family_members</th>\n",
       "      <th>insurance_benefits</th>\n",
       "    </tr>\n",
       "  </thead>\n",
       "  <tbody>\n",
       "    <tr>\n",
       "      <th>1775</th>\n",
       "      <td>1</td>\n",
       "      <td>18.0</td>\n",
       "      <td>48900.0</td>\n",
       "      <td>1</td>\n",
       "      <td>0</td>\n",
       "    </tr>\n",
       "    <tr>\n",
       "      <th>596</th>\n",
       "      <td>1</td>\n",
       "      <td>29.0</td>\n",
       "      <td>40300.0</td>\n",
       "      <td>1</td>\n",
       "      <td>0</td>\n",
       "    </tr>\n",
       "    <tr>\n",
       "      <th>1961</th>\n",
       "      <td>1</td>\n",
       "      <td>19.0</td>\n",
       "      <td>46700.0</td>\n",
       "      <td>1</td>\n",
       "      <td>0</td>\n",
       "    </tr>\n",
       "    <tr>\n",
       "      <th>4923</th>\n",
       "      <td>0</td>\n",
       "      <td>48.0</td>\n",
       "      <td>58200.0</td>\n",
       "      <td>0</td>\n",
       "      <td>1</td>\n",
       "    </tr>\n",
       "    <tr>\n",
       "      <th>1771</th>\n",
       "      <td>1</td>\n",
       "      <td>38.0</td>\n",
       "      <td>20900.0</td>\n",
       "      <td>2</td>\n",
       "      <td>0</td>\n",
       "    </tr>\n",
       "    <tr>\n",
       "      <th>2665</th>\n",
       "      <td>1</td>\n",
       "      <td>35.0</td>\n",
       "      <td>23500.0</td>\n",
       "      <td>1</td>\n",
       "      <td>0</td>\n",
       "    </tr>\n",
       "    <tr>\n",
       "      <th>3563</th>\n",
       "      <td>0</td>\n",
       "      <td>29.0</td>\n",
       "      <td>40900.0</td>\n",
       "      <td>0</td>\n",
       "      <td>0</td>\n",
       "    </tr>\n",
       "    <tr>\n",
       "      <th>4390</th>\n",
       "      <td>0</td>\n",
       "      <td>34.0</td>\n",
       "      <td>43800.0</td>\n",
       "      <td>1</td>\n",
       "      <td>0</td>\n",
       "    </tr>\n",
       "    <tr>\n",
       "      <th>489</th>\n",
       "      <td>1</td>\n",
       "      <td>22.0</td>\n",
       "      <td>32600.0</td>\n",
       "      <td>1</td>\n",
       "      <td>0</td>\n",
       "    </tr>\n",
       "    <tr>\n",
       "      <th>4473</th>\n",
       "      <td>1</td>\n",
       "      <td>29.0</td>\n",
       "      <td>41900.0</td>\n",
       "      <td>2</td>\n",
       "      <td>0</td>\n",
       "    </tr>\n",
       "  </tbody>\n",
       "</table>\n",
       "</div>"
      ],
      "text/plain": [
       "      gender   age   income  family_members  insurance_benefits\n",
       "1775       1  18.0  48900.0               1                   0\n",
       "596        1  29.0  40300.0               1                   0\n",
       "1961       1  19.0  46700.0               1                   0\n",
       "4923       0  48.0  58200.0               0                   1\n",
       "1771       1  38.0  20900.0               2                   0\n",
       "2665       1  35.0  23500.0               1                   0\n",
       "3563       0  29.0  40900.0               0                   0\n",
       "4390       0  34.0  43800.0               1                   0\n",
       "489        1  22.0  32600.0               1                   0\n",
       "4473       1  29.0  41900.0               2                   0"
      ]
     },
     "execution_count": 5,
     "metadata": {},
     "output_type": "execute_result"
    }
   ],
   "source": [
    "df.sample(10)"
   ]
  },
  {
   "cell_type": "code",
   "execution_count": 6,
   "metadata": {},
   "outputs": [
    {
     "name": "stdout",
     "output_type": "stream",
     "text": [
      "<class 'pandas.core.frame.DataFrame'>\n",
      "RangeIndex: 5000 entries, 0 to 4999\n",
      "Data columns (total 5 columns):\n",
      " #   Column              Non-Null Count  Dtype  \n",
      "---  ------              --------------  -----  \n",
      " 0   gender              5000 non-null   int64  \n",
      " 1   age                 5000 non-null   float64\n",
      " 2   income              5000 non-null   float64\n",
      " 3   family_members      5000 non-null   int64  \n",
      " 4   insurance_benefits  5000 non-null   int64  \n",
      "dtypes: float64(2), int64(3)\n",
      "memory usage: 195.4 KB\n"
     ]
    }
   ],
   "source": [
    "df.info()"
   ]
  },
  {
   "cell_type": "code",
   "execution_count": 7,
   "metadata": {},
   "outputs": [],
   "source": [
    "# we may want to fix the age type (from float to int) though this is not critical\n",
    "df.age = df.age.astype(int)\n",
    "# write your conversion here if you choose:"
   ]
  },
  {
   "cell_type": "code",
   "execution_count": 8,
   "metadata": {},
   "outputs": [
    {
     "name": "stdout",
     "output_type": "stream",
     "text": [
      "<class 'pandas.core.frame.DataFrame'>\n",
      "RangeIndex: 5000 entries, 0 to 4999\n",
      "Data columns (total 5 columns):\n",
      " #   Column              Non-Null Count  Dtype  \n",
      "---  ------              --------------  -----  \n",
      " 0   gender              5000 non-null   int64  \n",
      " 1   age                 5000 non-null   int64  \n",
      " 2   income              5000 non-null   float64\n",
      " 3   family_members      5000 non-null   int64  \n",
      " 4   insurance_benefits  5000 non-null   int64  \n",
      "dtypes: float64(1), int64(4)\n",
      "memory usage: 195.4 KB\n"
     ]
    }
   ],
   "source": [
    "# check to see that the conversion was successful\n",
    "df.info()"
   ]
  },
  {
   "cell_type": "code",
   "execution_count": 9,
   "metadata": {},
   "outputs": [
    {
     "data": {
      "text/html": [
       "<div>\n",
       "<style scoped>\n",
       "    .dataframe tbody tr th:only-of-type {\n",
       "        vertical-align: middle;\n",
       "    }\n",
       "\n",
       "    .dataframe tbody tr th {\n",
       "        vertical-align: top;\n",
       "    }\n",
       "\n",
       "    .dataframe thead th {\n",
       "        text-align: right;\n",
       "    }\n",
       "</style>\n",
       "<table border=\"1\" class=\"dataframe\">\n",
       "  <thead>\n",
       "    <tr style=\"text-align: right;\">\n",
       "      <th></th>\n",
       "      <th>gender</th>\n",
       "      <th>age</th>\n",
       "      <th>income</th>\n",
       "      <th>family_members</th>\n",
       "      <th>insurance_benefits</th>\n",
       "    </tr>\n",
       "  </thead>\n",
       "  <tbody>\n",
       "    <tr>\n",
       "      <th>count</th>\n",
       "      <td>5000.000000</td>\n",
       "      <td>5000.000000</td>\n",
       "      <td>5000.000000</td>\n",
       "      <td>5000.000000</td>\n",
       "      <td>5000.000000</td>\n",
       "    </tr>\n",
       "    <tr>\n",
       "      <th>mean</th>\n",
       "      <td>0.499000</td>\n",
       "      <td>30.952800</td>\n",
       "      <td>39916.360000</td>\n",
       "      <td>1.194200</td>\n",
       "      <td>0.148000</td>\n",
       "    </tr>\n",
       "    <tr>\n",
       "      <th>std</th>\n",
       "      <td>0.500049</td>\n",
       "      <td>8.440807</td>\n",
       "      <td>9900.083569</td>\n",
       "      <td>1.091387</td>\n",
       "      <td>0.463183</td>\n",
       "    </tr>\n",
       "    <tr>\n",
       "      <th>min</th>\n",
       "      <td>0.000000</td>\n",
       "      <td>18.000000</td>\n",
       "      <td>5300.000000</td>\n",
       "      <td>0.000000</td>\n",
       "      <td>0.000000</td>\n",
       "    </tr>\n",
       "    <tr>\n",
       "      <th>25%</th>\n",
       "      <td>0.000000</td>\n",
       "      <td>24.000000</td>\n",
       "      <td>33300.000000</td>\n",
       "      <td>0.000000</td>\n",
       "      <td>0.000000</td>\n",
       "    </tr>\n",
       "    <tr>\n",
       "      <th>50%</th>\n",
       "      <td>0.000000</td>\n",
       "      <td>30.000000</td>\n",
       "      <td>40200.000000</td>\n",
       "      <td>1.000000</td>\n",
       "      <td>0.000000</td>\n",
       "    </tr>\n",
       "    <tr>\n",
       "      <th>75%</th>\n",
       "      <td>1.000000</td>\n",
       "      <td>37.000000</td>\n",
       "      <td>46600.000000</td>\n",
       "      <td>2.000000</td>\n",
       "      <td>0.000000</td>\n",
       "    </tr>\n",
       "    <tr>\n",
       "      <th>max</th>\n",
       "      <td>1.000000</td>\n",
       "      <td>65.000000</td>\n",
       "      <td>79000.000000</td>\n",
       "      <td>6.000000</td>\n",
       "      <td>5.000000</td>\n",
       "    </tr>\n",
       "  </tbody>\n",
       "</table>\n",
       "</div>"
      ],
      "text/plain": [
       "            gender          age        income  family_members  \\\n",
       "count  5000.000000  5000.000000   5000.000000     5000.000000   \n",
       "mean      0.499000    30.952800  39916.360000        1.194200   \n",
       "std       0.500049     8.440807   9900.083569        1.091387   \n",
       "min       0.000000    18.000000   5300.000000        0.000000   \n",
       "25%       0.000000    24.000000  33300.000000        0.000000   \n",
       "50%       0.000000    30.000000  40200.000000        1.000000   \n",
       "75%       1.000000    37.000000  46600.000000        2.000000   \n",
       "max       1.000000    65.000000  79000.000000        6.000000   \n",
       "\n",
       "       insurance_benefits  \n",
       "count         5000.000000  \n",
       "mean             0.148000  \n",
       "std              0.463183  \n",
       "min              0.000000  \n",
       "25%              0.000000  \n",
       "50%              0.000000  \n",
       "75%              0.000000  \n",
       "max              5.000000  "
      ]
     },
     "execution_count": 9,
     "metadata": {},
     "output_type": "execute_result"
    }
   ],
   "source": [
    "# now have a look at the data's descriptive statistics. \n",
    "df.describe()\n",
    "# Does everything look okay?\n"
   ]
  },
  {
   "cell_type": "code",
   "execution_count": 10,
   "metadata": {},
   "outputs": [
    {
     "data": {
      "text/plain": [
       "gender                0\n",
       "age                   0\n",
       "income                0\n",
       "family_members        0\n",
       "insurance_benefits    0\n",
       "dtype: int64"
      ]
     },
     "execution_count": 10,
     "metadata": {},
     "output_type": "execute_result"
    }
   ],
   "source": [
    "# check for missing values\n",
    "df.isnull().sum()"
   ]
  },
  {
   "cell_type": "markdown",
   "metadata": {},
   "source": [
    "### Conclusion\n",
    "The data was loaded successfully and consists of 5000 rows and 5 columns. For convenience, the columns were renamed and the age column was converted from float to int datatype. Also, there are no missing values in the data. The data can now be explored further using exploratory data analysis."
   ]
  },
  {
   "cell_type": "markdown",
   "metadata": {},
   "source": [
    "## Exploratory Data Analysis"
   ]
  },
  {
   "cell_type": "markdown",
   "metadata": {},
   "source": [
    "Let's quickly check whether there are certain groups of customers by looking at the pair plot."
   ]
  },
  {
   "cell_type": "code",
   "execution_count": 11,
   "metadata": {},
   "outputs": [
    {
     "data": {
      "image/png": "[encoded data removed]",
      "text/plain": [
       "<Figure size 864x864 with 30 Axes>"
      ]
     },
     "metadata": {
      "needs_background": "light"
     },
     "output_type": "display_data"
    }
   ],
   "source": [
    "g = sns.pairplot(df, kind='hist')\n",
    "g.fig.set_size_inches(12, 12)"
   ]
  },
  {
   "cell_type": "markdown",
   "metadata": {},
   "source": [
    "Ok, it is a bit difficult to spot obvious groups (clusters) as it is difficult to combine several variables simultaneously (to analyze multivariate distributions). That's where LA and ML can be quite handy."
   ]
  },
  {
   "cell_type": "markdown",
   "metadata": {},
   "source": [
    "## Tasks"
   ]
  },
  {
   "cell_type": "markdown",
   "metadata": {},
   "source": [
    "### Task 1. Similar Customers"
   ]
  },
  {
   "cell_type": "markdown",
   "metadata": {},
   "source": [
    "In the language of ML, it is necessary to develop a procedure that returns k nearest neighbors (objects) for a given object based on the distance between the objects.\n",
    "\n",
    "You may want to review the following lessons (chapter -> lesson)\n",
    "- Distance Between Vectors -> Euclidean Distance\n",
    "- Distance Between Vectors -> Manhattan Distance\n",
    "\n",
    "To solve the task, we can try different distance metrics."
   ]
  },
  {
   "cell_type": "markdown",
   "metadata": {},
   "source": [
    "Write a function that returns k nearest neighbors for an $n^{th}$ object based on a specified distance metric. The number of received insurance benefits should not be taken into account for this task. \n",
    "\n",
    "You can use a ready implementation of the kNN algorithm from scikit-learn (check [the link](https://scikit-learn.org/stable/modules/generated/sklearn.neighbors.NearestNeighbors.html#sklearn.neighbors.NearestNeighbors)) or use your own.\n",
    "\n",
    "Test it for four combination of two cases\n",
    "- Scaling\n",
    "  - the data is not scaled\n",
    "  - the data is scaled with the [MaxAbsScaler](https://scikit-learn.org/stable/modules/generated/sklearn.preprocessing.MaxAbsScaler.html) scaler\n",
    "- Distance Metrics\n",
    "  - Euclidean\n",
    "  - Manhattan\n",
    "\n",
    "Answer these questions:\n",
    "- Does the data being not scaled affect the kNN algorithm? If so, how does that appear?\n",
    "- How similar are the results using the Manhattan distance metric (regardless of the scaling)?"
   ]
  },
  {
   "cell_type": "code",
   "execution_count": 12,
   "metadata": {},
   "outputs": [],
   "source": [
    "feature_names = ['gender', 'age', 'income', 'family_members']"
   ]
  },
  {
   "cell_type": "code",
   "execution_count": 13,
   "metadata": {},
   "outputs": [],
   "source": [
    "def get_knn(df, n, k, metric):\n",
    "    \n",
    "    \"\"\"\n",
    "    Returns k nearest neighbors\n",
    "\n",
    "    :param df: pandas DataFrame used to find similar objects within\n",
    "    :param n: object no for which the nearest neighbours are looked for\n",
    "    :param k: the number of the nearest neighbours to return\n",
    "    :param metric: name of distance metric\n",
    "    \"\"\"\n",
    "\n",
    "    nbrs = sklearn.neighbors.NearestNeighbors(n_neighbors=k, metric=metric) \n",
    "    nbrs.fit(df[feature_names].values)\n",
    "    nbrs_distances, nbrs_indices = nbrs.kneighbors(df.iloc[n][feature_names].values.reshape(1, -1), k, return_distance=True)\n",
    "    \n",
    "    df_res = pd.concat([\n",
    "        df.iloc[nbrs_indices[0]], \n",
    "        pd.DataFrame(nbrs_distances.T, index=nbrs_indices[0], columns=['distance'])\n",
    "        ], axis=1)\n",
    "    \n",
    "    return df_res"
   ]
  },
  {
   "cell_type": "markdown",
   "metadata": {},
   "source": [
    "Scaling the data."
   ]
  },
  {
   "cell_type": "code",
   "execution_count": 14,
   "metadata": {},
   "outputs": [],
   "source": [
    "# columns to be scaled\n",
    "\n",
    "feature_names = ['gender', 'age', 'income', 'family_members']\n",
    "\n",
    "# fit the scaler\n",
    "\n",
    "transformer_mas = sklearn.preprocessing.MaxAbsScaler().fit(df[feature_names].to_numpy())\n",
    "\n",
    "# create copy and apply scaler\n",
    "\n",
    "df_scaled = df.copy()\n",
    "df_scaled.loc[:, feature_names] = transformer_mas.transform(df[feature_names].to_numpy())"
   ]
  },
  {
   "cell_type": "code",
   "execution_count": 15,
   "metadata": {},
   "outputs": [
    {
     "data": {
      "text/html": [
       "<div>\n",
       "<style scoped>\n",
       "    .dataframe tbody tr th:only-of-type {\n",
       "        vertical-align: middle;\n",
       "    }\n",
       "\n",
       "    .dataframe tbody tr th {\n",
       "        vertical-align: top;\n",
       "    }\n",
       "\n",
       "    .dataframe thead th {\n",
       "        text-align: right;\n",
       "    }\n",
       "</style>\n",
       "<table border=\"1\" class=\"dataframe\">\n",
       "  <thead>\n",
       "    <tr style=\"text-align: right;\">\n",
       "      <th></th>\n",
       "      <th>gender</th>\n",
       "      <th>age</th>\n",
       "      <th>income</th>\n",
       "      <th>family_members</th>\n",
       "      <th>insurance_benefits</th>\n",
       "    </tr>\n",
       "  </thead>\n",
       "  <tbody>\n",
       "    <tr>\n",
       "      <th>1497</th>\n",
       "      <td>0.0</td>\n",
       "      <td>0.615385</td>\n",
       "      <td>0.402532</td>\n",
       "      <td>0.333333</td>\n",
       "      <td>0</td>\n",
       "    </tr>\n",
       "    <tr>\n",
       "      <th>969</th>\n",
       "      <td>1.0</td>\n",
       "      <td>0.569231</td>\n",
       "      <td>0.436709</td>\n",
       "      <td>0.166667</td>\n",
       "      <td>0</td>\n",
       "    </tr>\n",
       "    <tr>\n",
       "      <th>1934</th>\n",
       "      <td>1.0</td>\n",
       "      <td>0.553846</td>\n",
       "      <td>0.382278</td>\n",
       "      <td>0.166667</td>\n",
       "      <td>0</td>\n",
       "    </tr>\n",
       "    <tr>\n",
       "      <th>605</th>\n",
       "      <td>1.0</td>\n",
       "      <td>0.476923</td>\n",
       "      <td>0.658228</td>\n",
       "      <td>0.333333</td>\n",
       "      <td>0</td>\n",
       "    </tr>\n",
       "    <tr>\n",
       "      <th>4342</th>\n",
       "      <td>1.0</td>\n",
       "      <td>0.292308</td>\n",
       "      <td>0.672152</td>\n",
       "      <td>0.166667</td>\n",
       "      <td>0</td>\n",
       "    </tr>\n",
       "  </tbody>\n",
       "</table>\n",
       "</div>"
      ],
      "text/plain": [
       "      gender       age    income  family_members  insurance_benefits\n",
       "1497     0.0  0.615385  0.402532        0.333333                   0\n",
       "969      1.0  0.569231  0.436709        0.166667                   0\n",
       "1934     1.0  0.553846  0.382278        0.166667                   0\n",
       "605      1.0  0.476923  0.658228        0.333333                   0\n",
       "4342     1.0  0.292308  0.672152        0.166667                   0"
      ]
     },
     "execution_count": 15,
     "metadata": {},
     "output_type": "execute_result"
    }
   ],
   "source": [
    "# check scaled sample\n",
    "df_scaled.sample(5)"
   ]
  },
  {
   "cell_type": "markdown",
   "metadata": {},
   "source": [
    "Now, let's get similar records for a given one for every combination"
   ]
  },
  {
   "cell_type": "code",
   "execution_count": 16,
   "metadata": {},
   "outputs": [
    {
     "data": {
      "text/html": [
       "<div>\n",
       "<style scoped>\n",
       "    .dataframe tbody tr th:only-of-type {\n",
       "        vertical-align: middle;\n",
       "    }\n",
       "\n",
       "    .dataframe tbody tr th {\n",
       "        vertical-align: top;\n",
       "    }\n",
       "\n",
       "    .dataframe thead th {\n",
       "        text-align: right;\n",
       "    }\n",
       "</style>\n",
       "<table border=\"1\" class=\"dataframe\">\n",
       "  <thead>\n",
       "    <tr style=\"text-align: right;\">\n",
       "      <th></th>\n",
       "      <th>gender</th>\n",
       "      <th>age</th>\n",
       "      <th>income</th>\n",
       "      <th>family_members</th>\n",
       "      <th>distance</th>\n",
       "    </tr>\n",
       "  </thead>\n",
       "  <tbody>\n",
       "    <tr>\n",
       "      <th>0</th>\n",
       "      <td>1</td>\n",
       "      <td>41</td>\n",
       "      <td>49600.0</td>\n",
       "      <td>1</td>\n",
       "      <td>0.000000</td>\n",
       "    </tr>\n",
       "    <tr>\n",
       "      <th>2022</th>\n",
       "      <td>1</td>\n",
       "      <td>41</td>\n",
       "      <td>49600.0</td>\n",
       "      <td>0</td>\n",
       "      <td>1.000000</td>\n",
       "    </tr>\n",
       "    <tr>\n",
       "      <th>1225</th>\n",
       "      <td>0</td>\n",
       "      <td>42</td>\n",
       "      <td>49600.0</td>\n",
       "      <td>0</td>\n",
       "      <td>1.732051</td>\n",
       "    </tr>\n",
       "    <tr>\n",
       "      <th>4031</th>\n",
       "      <td>1</td>\n",
       "      <td>44</td>\n",
       "      <td>49600.0</td>\n",
       "      <td>2</td>\n",
       "      <td>3.162278</td>\n",
       "    </tr>\n",
       "    <tr>\n",
       "      <th>3424</th>\n",
       "      <td>0</td>\n",
       "      <td>38</td>\n",
       "      <td>49600.0</td>\n",
       "      <td>0</td>\n",
       "      <td>3.316625</td>\n",
       "    </tr>\n",
       "    <tr>\n",
       "      <th>815</th>\n",
       "      <td>1</td>\n",
       "      <td>37</td>\n",
       "      <td>49600.0</td>\n",
       "      <td>2</td>\n",
       "      <td>4.123106</td>\n",
       "    </tr>\n",
       "    <tr>\n",
       "      <th>4661</th>\n",
       "      <td>0</td>\n",
       "      <td>45</td>\n",
       "      <td>49600.0</td>\n",
       "      <td>0</td>\n",
       "      <td>4.242641</td>\n",
       "    </tr>\n",
       "    <tr>\n",
       "      <th>2125</th>\n",
       "      <td>0</td>\n",
       "      <td>37</td>\n",
       "      <td>49600.0</td>\n",
       "      <td>2</td>\n",
       "      <td>4.242641</td>\n",
       "    </tr>\n",
       "    <tr>\n",
       "      <th>2349</th>\n",
       "      <td>1</td>\n",
       "      <td>46</td>\n",
       "      <td>49600.0</td>\n",
       "      <td>2</td>\n",
       "      <td>5.099020</td>\n",
       "    </tr>\n",
       "    <tr>\n",
       "      <th>3900</th>\n",
       "      <td>1</td>\n",
       "      <td>36</td>\n",
       "      <td>49600.0</td>\n",
       "      <td>0</td>\n",
       "      <td>5.099020</td>\n",
       "    </tr>\n",
       "  </tbody>\n",
       "</table>\n",
       "</div>"
      ],
      "text/plain": [
       "      gender  age   income  family_members  distance\n",
       "0          1   41  49600.0               1  0.000000\n",
       "2022       1   41  49600.0               0  1.000000\n",
       "1225       0   42  49600.0               0  1.732051\n",
       "4031       1   44  49600.0               2  3.162278\n",
       "3424       0   38  49600.0               0  3.316625\n",
       "815        1   37  49600.0               2  4.123106\n",
       "4661       0   45  49600.0               0  4.242641\n",
       "2125       0   37  49600.0               2  4.242641\n",
       "2349       1   46  49600.0               2  5.099020\n",
       "3900       1   36  49600.0               0  5.099020"
      ]
     },
     "execution_count": 16,
     "metadata": {},
     "output_type": "execute_result"
    }
   ],
   "source": [
    "# euclidean distance with unscaled data\n",
    "\n",
    "get_knn(df[feature_names], 0, 10, 'euclidean')"
   ]
  },
  {
   "cell_type": "code",
   "execution_count": 17,
   "metadata": {},
   "outputs": [
    {
     "data": {
      "text/html": [
       "<div>\n",
       "<style scoped>\n",
       "    .dataframe tbody tr th:only-of-type {\n",
       "        vertical-align: middle;\n",
       "    }\n",
       "\n",
       "    .dataframe tbody tr th {\n",
       "        vertical-align: top;\n",
       "    }\n",
       "\n",
       "    .dataframe thead th {\n",
       "        text-align: right;\n",
       "    }\n",
       "</style>\n",
       "<table border=\"1\" class=\"dataframe\">\n",
       "  <thead>\n",
       "    <tr style=\"text-align: right;\">\n",
       "      <th></th>\n",
       "      <th>gender</th>\n",
       "      <th>age</th>\n",
       "      <th>income</th>\n",
       "      <th>family_members</th>\n",
       "      <th>distance</th>\n",
       "    </tr>\n",
       "  </thead>\n",
       "  <tbody>\n",
       "    <tr>\n",
       "      <th>0</th>\n",
       "      <td>1.0</td>\n",
       "      <td>0.630769</td>\n",
       "      <td>0.627848</td>\n",
       "      <td>0.166667</td>\n",
       "      <td>0.000000</td>\n",
       "    </tr>\n",
       "    <tr>\n",
       "      <th>2689</th>\n",
       "      <td>1.0</td>\n",
       "      <td>0.630769</td>\n",
       "      <td>0.634177</td>\n",
       "      <td>0.166667</td>\n",
       "      <td>0.006329</td>\n",
       "    </tr>\n",
       "    <tr>\n",
       "      <th>133</th>\n",
       "      <td>1.0</td>\n",
       "      <td>0.615385</td>\n",
       "      <td>0.636709</td>\n",
       "      <td>0.166667</td>\n",
       "      <td>0.017754</td>\n",
       "    </tr>\n",
       "    <tr>\n",
       "      <th>4869</th>\n",
       "      <td>1.0</td>\n",
       "      <td>0.646154</td>\n",
       "      <td>0.637975</td>\n",
       "      <td>0.166667</td>\n",
       "      <td>0.018418</td>\n",
       "    </tr>\n",
       "    <tr>\n",
       "      <th>3275</th>\n",
       "      <td>1.0</td>\n",
       "      <td>0.646154</td>\n",
       "      <td>0.651899</td>\n",
       "      <td>0.166667</td>\n",
       "      <td>0.028550</td>\n",
       "    </tr>\n",
       "    <tr>\n",
       "      <th>1567</th>\n",
       "      <td>1.0</td>\n",
       "      <td>0.615385</td>\n",
       "      <td>0.602532</td>\n",
       "      <td>0.166667</td>\n",
       "      <td>0.029624</td>\n",
       "    </tr>\n",
       "    <tr>\n",
       "      <th>2103</th>\n",
       "      <td>1.0</td>\n",
       "      <td>0.630769</td>\n",
       "      <td>0.596203</td>\n",
       "      <td>0.166667</td>\n",
       "      <td>0.031646</td>\n",
       "    </tr>\n",
       "    <tr>\n",
       "      <th>3365</th>\n",
       "      <td>1.0</td>\n",
       "      <td>0.630769</td>\n",
       "      <td>0.596203</td>\n",
       "      <td>0.166667</td>\n",
       "      <td>0.031646</td>\n",
       "    </tr>\n",
       "    <tr>\n",
       "      <th>124</th>\n",
       "      <td>1.0</td>\n",
       "      <td>0.661538</td>\n",
       "      <td>0.635443</td>\n",
       "      <td>0.166667</td>\n",
       "      <td>0.031693</td>\n",
       "    </tr>\n",
       "    <tr>\n",
       "      <th>3636</th>\n",
       "      <td>1.0</td>\n",
       "      <td>0.615385</td>\n",
       "      <td>0.600000</td>\n",
       "      <td>0.166667</td>\n",
       "      <td>0.031815</td>\n",
       "    </tr>\n",
       "  </tbody>\n",
       "</table>\n",
       "</div>"
      ],
      "text/plain": [
       "      gender       age    income  family_members  distance\n",
       "0        1.0  0.630769  0.627848        0.166667  0.000000\n",
       "2689     1.0  0.630769  0.634177        0.166667  0.006329\n",
       "133      1.0  0.615385  0.636709        0.166667  0.017754\n",
       "4869     1.0  0.646154  0.637975        0.166667  0.018418\n",
       "3275     1.0  0.646154  0.651899        0.166667  0.028550\n",
       "1567     1.0  0.615385  0.602532        0.166667  0.029624\n",
       "2103     1.0  0.630769  0.596203        0.166667  0.031646\n",
       "3365     1.0  0.630769  0.596203        0.166667  0.031646\n",
       "124      1.0  0.661538  0.635443        0.166667  0.031693\n",
       "3636     1.0  0.615385  0.600000        0.166667  0.031815"
      ]
     },
     "execution_count": 17,
     "metadata": {},
     "output_type": "execute_result"
    }
   ],
   "source": [
    "# euclidean distance with scaled data\n",
    "\n",
    "get_knn(df_scaled[feature_names], 0, 10, 'euclidean')"
   ]
  },
  {
   "cell_type": "code",
   "execution_count": 18,
   "metadata": {
    "scrolled": true
   },
   "outputs": [
    {
     "data": {
      "text/html": [
       "<div>\n",
       "<style scoped>\n",
       "    .dataframe tbody tr th:only-of-type {\n",
       "        vertical-align: middle;\n",
       "    }\n",
       "\n",
       "    .dataframe tbody tr th {\n",
       "        vertical-align: top;\n",
       "    }\n",
       "\n",
       "    .dataframe thead th {\n",
       "        text-align: right;\n",
       "    }\n",
       "</style>\n",
       "<table border=\"1\" class=\"dataframe\">\n",
       "  <thead>\n",
       "    <tr style=\"text-align: right;\">\n",
       "      <th></th>\n",
       "      <th>gender</th>\n",
       "      <th>age</th>\n",
       "      <th>income</th>\n",
       "      <th>family_members</th>\n",
       "      <th>distance</th>\n",
       "    </tr>\n",
       "  </thead>\n",
       "  <tbody>\n",
       "    <tr>\n",
       "      <th>0</th>\n",
       "      <td>1</td>\n",
       "      <td>41</td>\n",
       "      <td>49600.0</td>\n",
       "      <td>1</td>\n",
       "      <td>0.0</td>\n",
       "    </tr>\n",
       "    <tr>\n",
       "      <th>2022</th>\n",
       "      <td>1</td>\n",
       "      <td>41</td>\n",
       "      <td>49600.0</td>\n",
       "      <td>0</td>\n",
       "      <td>1.0</td>\n",
       "    </tr>\n",
       "    <tr>\n",
       "      <th>1225</th>\n",
       "      <td>0</td>\n",
       "      <td>42</td>\n",
       "      <td>49600.0</td>\n",
       "      <td>0</td>\n",
       "      <td>3.0</td>\n",
       "    </tr>\n",
       "    <tr>\n",
       "      <th>4031</th>\n",
       "      <td>1</td>\n",
       "      <td>44</td>\n",
       "      <td>49600.0</td>\n",
       "      <td>2</td>\n",
       "      <td>4.0</td>\n",
       "    </tr>\n",
       "    <tr>\n",
       "      <th>815</th>\n",
       "      <td>1</td>\n",
       "      <td>37</td>\n",
       "      <td>49600.0</td>\n",
       "      <td>2</td>\n",
       "      <td>5.0</td>\n",
       "    </tr>\n",
       "    <tr>\n",
       "      <th>3424</th>\n",
       "      <td>0</td>\n",
       "      <td>38</td>\n",
       "      <td>49600.0</td>\n",
       "      <td>0</td>\n",
       "      <td>5.0</td>\n",
       "    </tr>\n",
       "    <tr>\n",
       "      <th>2125</th>\n",
       "      <td>0</td>\n",
       "      <td>37</td>\n",
       "      <td>49600.0</td>\n",
       "      <td>2</td>\n",
       "      <td>6.0</td>\n",
       "    </tr>\n",
       "    <tr>\n",
       "      <th>3900</th>\n",
       "      <td>1</td>\n",
       "      <td>36</td>\n",
       "      <td>49600.0</td>\n",
       "      <td>0</td>\n",
       "      <td>6.0</td>\n",
       "    </tr>\n",
       "    <tr>\n",
       "      <th>2349</th>\n",
       "      <td>1</td>\n",
       "      <td>46</td>\n",
       "      <td>49600.0</td>\n",
       "      <td>2</td>\n",
       "      <td>6.0</td>\n",
       "    </tr>\n",
       "    <tr>\n",
       "      <th>4661</th>\n",
       "      <td>0</td>\n",
       "      <td>45</td>\n",
       "      <td>49600.0</td>\n",
       "      <td>0</td>\n",
       "      <td>6.0</td>\n",
       "    </tr>\n",
       "  </tbody>\n",
       "</table>\n",
       "</div>"
      ],
      "text/plain": [
       "      gender  age   income  family_members  distance\n",
       "0          1   41  49600.0               1       0.0\n",
       "2022       1   41  49600.0               0       1.0\n",
       "1225       0   42  49600.0               0       3.0\n",
       "4031       1   44  49600.0               2       4.0\n",
       "815        1   37  49600.0               2       5.0\n",
       "3424       0   38  49600.0               0       5.0\n",
       "2125       0   37  49600.0               2       6.0\n",
       "3900       1   36  49600.0               0       6.0\n",
       "2349       1   46  49600.0               2       6.0\n",
       "4661       0   45  49600.0               0       6.0"
      ]
     },
     "execution_count": 18,
     "metadata": {},
     "output_type": "execute_result"
    }
   ],
   "source": [
    "# manhattan (city block) distance with unscaled data\n",
    "\n",
    "get_knn(df[feature_names], 0, 10, 'manhattan')"
   ]
  },
  {
   "cell_type": "code",
   "execution_count": 19,
   "metadata": {},
   "outputs": [
    {
     "data": {
      "text/html": [
       "<div>\n",
       "<style scoped>\n",
       "    .dataframe tbody tr th:only-of-type {\n",
       "        vertical-align: middle;\n",
       "    }\n",
       "\n",
       "    .dataframe tbody tr th {\n",
       "        vertical-align: top;\n",
       "    }\n",
       "\n",
       "    .dataframe thead th {\n",
       "        text-align: right;\n",
       "    }\n",
       "</style>\n",
       "<table border=\"1\" class=\"dataframe\">\n",
       "  <thead>\n",
       "    <tr style=\"text-align: right;\">\n",
       "      <th></th>\n",
       "      <th>gender</th>\n",
       "      <th>age</th>\n",
       "      <th>income</th>\n",
       "      <th>family_members</th>\n",
       "      <th>distance</th>\n",
       "    </tr>\n",
       "  </thead>\n",
       "  <tbody>\n",
       "    <tr>\n",
       "      <th>0</th>\n",
       "      <td>1.0</td>\n",
       "      <td>0.630769</td>\n",
       "      <td>0.627848</td>\n",
       "      <td>0.166667</td>\n",
       "      <td>0.000000</td>\n",
       "    </tr>\n",
       "    <tr>\n",
       "      <th>2689</th>\n",
       "      <td>1.0</td>\n",
       "      <td>0.630769</td>\n",
       "      <td>0.634177</td>\n",
       "      <td>0.166667</td>\n",
       "      <td>0.006329</td>\n",
       "    </tr>\n",
       "    <tr>\n",
       "      <th>133</th>\n",
       "      <td>1.0</td>\n",
       "      <td>0.615385</td>\n",
       "      <td>0.636709</td>\n",
       "      <td>0.166667</td>\n",
       "      <td>0.024245</td>\n",
       "    </tr>\n",
       "    <tr>\n",
       "      <th>4869</th>\n",
       "      <td>1.0</td>\n",
       "      <td>0.646154</td>\n",
       "      <td>0.637975</td>\n",
       "      <td>0.166667</td>\n",
       "      <td>0.025511</td>\n",
       "    </tr>\n",
       "    <tr>\n",
       "      <th>3365</th>\n",
       "      <td>1.0</td>\n",
       "      <td>0.630769</td>\n",
       "      <td>0.596203</td>\n",
       "      <td>0.166667</td>\n",
       "      <td>0.031646</td>\n",
       "    </tr>\n",
       "    <tr>\n",
       "      <th>2103</th>\n",
       "      <td>1.0</td>\n",
       "      <td>0.630769</td>\n",
       "      <td>0.596203</td>\n",
       "      <td>0.166667</td>\n",
       "      <td>0.031646</td>\n",
       "    </tr>\n",
       "    <tr>\n",
       "      <th>124</th>\n",
       "      <td>1.0</td>\n",
       "      <td>0.661538</td>\n",
       "      <td>0.635443</td>\n",
       "      <td>0.166667</td>\n",
       "      <td>0.038364</td>\n",
       "    </tr>\n",
       "    <tr>\n",
       "      <th>4305</th>\n",
       "      <td>1.0</td>\n",
       "      <td>0.630769</td>\n",
       "      <td>0.588608</td>\n",
       "      <td>0.166667</td>\n",
       "      <td>0.039241</td>\n",
       "    </tr>\n",
       "    <tr>\n",
       "      <th>3275</th>\n",
       "      <td>1.0</td>\n",
       "      <td>0.646154</td>\n",
       "      <td>0.651899</td>\n",
       "      <td>0.166667</td>\n",
       "      <td>0.039435</td>\n",
       "    </tr>\n",
       "    <tr>\n",
       "      <th>1567</th>\n",
       "      <td>1.0</td>\n",
       "      <td>0.615385</td>\n",
       "      <td>0.602532</td>\n",
       "      <td>0.166667</td>\n",
       "      <td>0.040701</td>\n",
       "    </tr>\n",
       "  </tbody>\n",
       "</table>\n",
       "</div>"
      ],
      "text/plain": [
       "      gender       age    income  family_members  distance\n",
       "0        1.0  0.630769  0.627848        0.166667  0.000000\n",
       "2689     1.0  0.630769  0.634177        0.166667  0.006329\n",
       "133      1.0  0.615385  0.636709        0.166667  0.024245\n",
       "4869     1.0  0.646154  0.637975        0.166667  0.025511\n",
       "3365     1.0  0.630769  0.596203        0.166667  0.031646\n",
       "2103     1.0  0.630769  0.596203        0.166667  0.031646\n",
       "124      1.0  0.661538  0.635443        0.166667  0.038364\n",
       "4305     1.0  0.630769  0.588608        0.166667  0.039241\n",
       "3275     1.0  0.646154  0.651899        0.166667  0.039435\n",
       "1567     1.0  0.615385  0.602532        0.166667  0.040701"
      ]
     },
     "execution_count": 19,
     "metadata": {},
     "output_type": "execute_result"
    }
   ],
   "source": [
    "get_knn(df_scaled[feature_names], 0, 10, 'manhattan')\n"
   ]
  },
  {
   "cell_type": "markdown",
   "metadata": {},
   "source": [
    "#### Conclusion\n",
    "**Does the data being not scaled affect the kNN algorithm? If so, how does that appear?** \n",
    "\n",
    "Feature scaling is important for kNN algorithms as it calculates distances between data. The unscaled data affects the kNN algorithm because the algorithm attaches more importance to certain features with higher ranging numbers than other.  kNN with euclidean distance is sensitive to magnitudes hence, the data should be scaled for all features to weigh in equally."
   ]
  },
  {
   "cell_type": "markdown",
   "metadata": {},
   "source": [
    "**How similar are the results using the Manhattan distance metric (regardless of the scaling)?** \n",
    "\n",
    "The first 1st nearest neighbor is identical for both Manhattan distance metric, regardless of scaling. However, after that the results differs.\n",
    "\n"
   ]
  },
  {
   "cell_type": "markdown",
   "metadata": {},
   "source": [
    "### Task 2. Is Customer Likely to Receive Insurance Benefit?"
   ]
  },
  {
   "cell_type": "markdown",
   "metadata": {},
   "source": [
    "In terms of machine learning we can look at this like a binary classification task."
   ]
  },
  {
   "cell_type": "markdown",
   "metadata": {},
   "source": [
    "With `insurance_benefits` being more than zero as the target, evaluate whether the kNN classification approach can do better than a dummy model.\n",
    "\n",
    "Instructions:\n",
    "- Build a KNN-based classifier and measure its quality with the F1 metric for k=1..10 for both the original data and the scaled one. That'd be interesting to see how k may influece the evaluation metric, and whether scaling the data makes any difference. You can use a ready implemention of the kNN classification algorithm from scikit-learn (check [the link](https://scikit-learn.org/stable/modules/generated/sklearn.neighbors.KNeighborsClassifier.html)) or use your own.\n",
    "- Build the dummy model which is just random for this case. It should return \"1\" with some probability. Let's test the model with four probability values: 0, the probability of paying any insurance benefit, 0.5, 1.\n",
    "\n",
    "The probability of paying any insurance benefit can be defined as\n",
    "\n",
    "$$\n",
    "P\\{\\text{insurance benefit received}\\}=\\frac{\\text{number of clients received any insurance benefit}}{\\text{total number of clients}}.\n",
    "$$\n",
    "\n",
    "Split the whole data in the 70:30 proportion for the training/testing parts."
   ]
  },
  {
   "cell_type": "code",
   "execution_count": 20,
   "metadata": {},
   "outputs": [],
   "source": [
    "# calculate the target\n",
    "\n",
    "df['insurance_benefits_received'] = (df['insurance_benefits'] > 0).astype(int)\n"
   ]
  },
  {
   "cell_type": "code",
   "execution_count": 21,
   "metadata": {},
   "outputs": [
    {
     "data": {
      "text/plain": [
       "0    4436\n",
       "1     564\n",
       "Name: insurance_benefits_received, dtype: int64"
      ]
     },
     "execution_count": 21,
     "metadata": {},
     "output_type": "execute_result"
    }
   ],
   "source": [
    "# check for the class imbalance with value_counts()\n",
    "\n",
    "df['insurance_benefits_received'].value_counts()\n"
   ]
  },
  {
   "cell_type": "markdown",
   "metadata": {},
   "source": [
    "There is a clear class imbalance among customers who received insurance benefits, with a majority of customers not receiving benefits. This class imbalance can create bias and affect our predictive model's accuracy."
   ]
  },
  {
   "cell_type": "code",
   "execution_count": 22,
   "metadata": {},
   "outputs": [],
   "source": [
    "# function to compute metrics\n",
    "\n",
    "def eval_classifier(y_true, y_pred):\n",
    "    \n",
    "    f1_score = sklearn.metrics.f1_score(y_true, y_pred)\n",
    "    print(f'F1: {f1_score:.2f}')\n",
    "    \n",
    "# if you have an issue with the following line, restart the kernel and run the notebook again\n",
    "    cm = sklearn.metrics.confusion_matrix(y_true, y_pred, normalize='all')\n",
    "    print('Confusion Matrix')\n",
    "    print(cm)"
   ]
  },
  {
   "cell_type": "code",
   "execution_count": 23,
   "metadata": {},
   "outputs": [],
   "source": [
    "# generating output of a random model\n",
    "\n",
    "def rnd_model_predict(P, size, seed=42):\n",
    "\n",
    "    rng = np.random.default_rng(seed=seed)\n",
    "    return rng.binomial(n=1, p=P, size=size)"
   ]
  },
  {
   "cell_type": "markdown",
   "metadata": {},
   "source": [
    "#### Measure F1 metric on unscaled data using KNN-based classifier\n"
   ]
  },
  {
   "cell_type": "code",
   "execution_count": 24,
   "metadata": {},
   "outputs": [],
   "source": [
    "# split data into train and test sets\n",
    "\n",
    "train, test = train_test_split(df, test_size=0.3, stratify=df['insurance_benefits_received'], random_state=12345)\n",
    "\n",
    "X_train = train[feature_names]\n",
    "X_test = test[feature_names]\n",
    "y_train = train['insurance_benefits_received']\n",
    "y_test = test['insurance_benefits_received']"
   ]
  },
  {
   "cell_type": "code",
   "execution_count": 25,
   "metadata": {},
   "outputs": [
    {
     "data": {
      "text/plain": [
       "KNeighborsClassifier(n_neighbors=3)"
      ]
     },
     "execution_count": 25,
     "metadata": {},
     "output_type": "execute_result"
    }
   ],
   "source": [
    "# fit the data\n",
    "\n",
    "knn = sklearn.neighbors.KNeighborsClassifier(n_neighbors=3)\n",
    "knn.fit(X_train, y_train)\n"
   ]
  },
  {
   "cell_type": "code",
   "execution_count": 26,
   "metadata": {},
   "outputs": [
    {
     "data": {
      "text/plain": [
       "68"
      ]
     },
     "execution_count": 26,
     "metadata": {},
     "output_type": "execute_result"
    }
   ],
   "source": [
    "# make prediction\n",
    "\n",
    "knn.predict(X_test).sum()"
   ]
  },
  {
   "cell_type": "code",
   "execution_count": 27,
   "metadata": {},
   "outputs": [
    {
     "name": "stdout",
     "output_type": "stream",
     "text": [
      "F1: 0.40\n",
      "Confusion Matrix\n",
      "[[0.87333333 0.014     ]\n",
      " [0.08133333 0.03133333]]\n"
     ]
    }
   ],
   "source": [
    "# evaluate metrics\n",
    "\n",
    "eval_classifier(y_test, knn.predict(X_test))"
   ]
  },
  {
   "cell_type": "code",
   "execution_count": 28,
   "metadata": {},
   "outputs": [
    {
     "name": "stdout",
     "output_type": "stream",
     "text": [
      "Unscaled data:\n",
      "N_neighbors: 1, F1: 0.59\n",
      "N_neighbors: 2, F1: 0.39\n",
      "N_neighbors: 3, F1: 0.40\n",
      "N_neighbors: 4, F1: 0.16\n",
      "N_neighbors: 5, F1: 0.15\n",
      "N_neighbors: 6, F1: 0.06\n",
      "N_neighbors: 7, F1: 0.07\n",
      "N_neighbors: 8, F1: 0.05\n",
      "N_neighbors: 9, F1: 0.05\n",
      "N_neighbors: 10, F1: 0.00\n"
     ]
    }
   ],
   "source": [
    "# model performance using unscaled data and k from 1 to 10\n",
    "\n",
    "print('Unscaled data:')\n",
    "unscaled_f1 = []\n",
    "for k in range(1,11):\n",
    "    knn = sklearn.neighbors.KNeighborsClassifier(n_neighbors=k) \n",
    "    knn.fit(X_train, y_train)\n",
    "    knc_pred = knn.predict(X_test)\n",
    "    f1_score = sklearn.metrics.f1_score(y_test, knc_pred)\n",
    "    unscaled_f1.append(f1_score)\n",
    "    print(f'N_neighbors: {k}, F1: {f1_score:.2f}')\n"
   ]
  },
  {
   "cell_type": "markdown",
   "metadata": {},
   "source": [
    "From the above computation, we can see that k influences the evaluation metric. The higher the value of k the lower the F1 score recorded .i.e. when K was increased from 1 to 10, the F1 score decreased significantly. The highest F1 score value was obtained using a k value of 1."
   ]
  },
  {
   "cell_type": "markdown",
   "metadata": {},
   "source": [
    "#### Measure F1 metric on scaled data using KNN-based classifier\n"
   ]
  },
  {
   "cell_type": "code",
   "execution_count": 29,
   "metadata": {},
   "outputs": [],
   "source": [
    "# calculate target for scaled data\n",
    "\n",
    "df_scaled['insurance_benefits_received'] = (df_scaled['insurance_benefits'] > 0).astype(int)\n",
    "df_scaled.head()\n",
    "\n",
    "# feature and target for unscaled data\n",
    "X = df[feature_names]\n",
    "y = df['insurance_benefits_received']\n",
    "\n",
    "# produce only feature columns for scaled data\n",
    "X_scaled = df_scaled[feature_names]\n",
    "\n",
    "# split data into train and test sets\n",
    "X_train, X_test, y_train, y_test, X_train_scaled, X_test_scaled = train_test_split(\n",
    "    X, y, X_scaled, test_size = 0.3, random_state=12345\n",
    ")\n"
   ]
  },
  {
   "cell_type": "code",
   "execution_count": 30,
   "metadata": {},
   "outputs": [
    {
     "name": "stdout",
     "output_type": "stream",
     "text": [
      "Scaled data:\n",
      "N_neighbors: 1, F1: 0.97\n",
      "N_neighbors: 2, F1: 0.93\n",
      "N_neighbors: 3, F1: 0.95\n",
      "N_neighbors: 4, F1: 0.91\n",
      "N_neighbors: 5, F1: 0.92\n",
      "N_neighbors: 6, F1: 0.90\n",
      "N_neighbors: 7, F1: 0.92\n",
      "N_neighbors: 8, F1: 0.90\n",
      "N_neighbors: 9, F1: 0.92\n",
      "N_neighbors: 10, F1: 0.88\n"
     ]
    }
   ],
   "source": [
    "# model performance using scaled data and k from 1 to 10\n",
    "\n",
    "print('Scaled data:')\n",
    "scaled_f1 = []\n",
    "for k in range(1,11):\n",
    "    model = sklearn.neighbors.KNeighborsClassifier(n_neighbors=k)\n",
    "    model.fit(X_train_scaled, y_train)\n",
    "    y_pred = model.predict(X_test_scaled)\n",
    "    f1_score = sklearn.metrics.f1_score(y_test, y_pred)\n",
    "    scaled_f1.append(f1_score)\n",
    "    print(f'N_neighbors: {k}, F1: {f1_score:.2f}')\n"
   ]
  },
  {
   "cell_type": "markdown",
   "metadata": {},
   "source": [
    "When we scaled the data, we observed that the F1 score decreases from 0.97 at k = 1 to 0.88 at k = 10, thus increasing the k value decreases the F1 score."
   ]
  },
  {
   "cell_type": "markdown",
   "metadata": {},
   "source": [
    "#### Visualize"
   ]
  },
  {
   "cell_type": "code",
   "execution_count": 31,
   "metadata": {},
   "outputs": [
    {
     "data": {
      "image/png": "[encoded data removed]",
      "text/plain": [
       "<Figure size 864x432 with 1 Axes>"
      ]
     },
     "metadata": {
      "needs_background": "light"
     },
     "output_type": "display_data"
    }
   ],
   "source": [
    "# Plot the results\n",
    "plt.figure(figsize=(12,6))\n",
    "plt.plot(scaled_f1, label = \"Unscaled F1\")\n",
    "plt.plot(unscaled_f1, label = 'Scaled F1')\n",
    "plt.xlabel('# of Nearest Neighbors (k)')\n",
    "plt.ylabel(' F1 Score (%)')\n",
    "plt.title(\"Effect of k on F1 Scores\")\n",
    "\n",
    "plt.legend()\n",
    "plt.show()"
   ]
  },
  {
   "cell_type": "markdown",
   "metadata": {},
   "source": [
    "#### Probability of paying any insurance benefit is:\n"
   ]
  },
  {
   "cell_type": "code",
   "execution_count": 32,
   "metadata": {},
   "outputs": [
    {
     "name": "stdout",
     "output_type": "stream",
     "text": [
      "The probability: 0.00\n",
      "F1: 0.00\n",
      "Confusion Matrix\n",
      "[[0.89133333 0.        ]\n",
      " [0.10866667 0.        ]]\n",
      "\n",
      "The probability: 0.11\n",
      "F1: 0.11\n",
      "Confusion Matrix\n",
      "[[0.78666667 0.10466667]\n",
      " [0.096      0.01266667]]\n",
      "\n",
      "The probability: 0.50\n",
      "F1: 0.16\n",
      "Confusion Matrix\n",
      "[[0.44533333 0.446     ]\n",
      " [0.06       0.04866667]]\n",
      "\n",
      "The probability: 1.00\n",
      "F1: 0.20\n",
      "Confusion Matrix\n",
      "[[0.         0.89133333]\n",
      " [0.         0.10866667]]\n",
      "\n"
     ]
    }
   ],
   "source": [
    "for P in [0, df['insurance_benefits_received'].sum() / len(df), 0.5, 1]:\n",
    "\n",
    "    print(f'The probability: {P:.2f}')\n",
    "    y_pred_rnd = rnd_model_predict(P, y_test.shape[0]) \n",
    "        \n",
    "    eval_classifier(y_test, y_pred_rnd)\n",
    "    \n",
    "    print()"
   ]
  },
  {
   "cell_type": "markdown",
   "metadata": {},
   "source": [
    "The dummy model gave the highest F1-score of 0.2 with a probability value of 1. This model predicted that all customers will benefit from the insurance."
   ]
  },
  {
   "cell_type": "markdown",
   "metadata": {},
   "source": [
    "### Task 3. Regression (with Linear Regression)"
   ]
  },
  {
   "cell_type": "markdown",
   "metadata": {},
   "source": [
    "With `insurance_benefits` as the target, evaluate what RMSE would be for a Linear Regression model."
   ]
  },
  {
   "cell_type": "markdown",
   "metadata": {},
   "source": [
    "Build your own implementation of LR. For that, recall how the linear regression task's solution is formulated in terms of LA. Check RMSE for both the original data and the scaled one. Can you see any difference in RMSE between these two cases?\n",
    "\n",
    "Let's denote\n",
    "- $X$ — feature matrix, each row is a case, each column is a feature, the first column consists of unities\n",
    "- $y$ — target (a vector)\n",
    "- $\\hat{y}$ — estimated tagret (a vector)\n",
    "- $w$ — weight vector\n",
    "\n",
    "The task of linear regression in the language of matrices can be formulated as\n",
    "\n",
    "$$\n",
    "y = Xw\n",
    "$$\n",
    "\n",
    "The training objective then is to find such $w$ that it would minimize the L2-distance (MSE) between $Xw$ and $y$:\n",
    "\n",
    "$$\n",
    "\\min_w d_2(Xw, y) \\quad \\text{or} \\quad \\min_w \\text{MSE}(Xw, y)\n",
    "$$\n",
    "\n",
    "It appears that there is analytical solution for the above:\n",
    "\n",
    "$$\n",
    "w = (X^T X)^{-1} X^T y\n",
    "$$\n",
    "\n",
    "The formula above can be used to find the weights $w$ and the latter can be used to calculate predicted values\n",
    "\n",
    "$$\n",
    "\\hat{y} = X_{val}w\n",
    "$$"
   ]
  },
  {
   "cell_type": "markdown",
   "metadata": {},
   "source": [
    "Split the whole data in the 70:30 proportion for the training/validation parts. Use the RMSE metric for the model evaluation."
   ]
  },
  {
   "cell_type": "code",
   "execution_count": 33,
   "metadata": {},
   "outputs": [],
   "source": [
    "class MyLinearRegression:\n",
    "    \n",
    "    def __init__(self):\n",
    "        \n",
    "        self.weights = None\n",
    "    \n",
    "    def fit(self, X, y):\n",
    "        \n",
    "        # adding the unities\n",
    "        X2 = np.append(np.ones([len(X), 1]), X, axis=1)\n",
    "        self.weights = np.linalg.inv(X2.T.dot(X2)).dot(X2.T).dot(y)\n",
    "\n",
    "    def predict(self, X):\n",
    "        \n",
    "        # adding the unities\n",
    "        X2 = np.append(np.ones([len(X), 1]), X, axis=1)\n",
    "        y_pred = X2.dot(self.weights)\n",
    "\n",
    "        return y_pred"
   ]
  },
  {
   "cell_type": "code",
   "execution_count": 34,
   "metadata": {},
   "outputs": [],
   "source": [
    "# evaluate regression metrics\n",
    "\n",
    "def eval_regressor(y_true, y_pred):\n",
    "    \n",
    "    rmse = math.sqrt(sklearn.metrics.mean_squared_error(y_true, y_pred))\n",
    "    print(f'RMSE: {rmse:.2f}')\n",
    "    \n",
    "    r2_score = math.sqrt(sklearn.metrics.r2_score(y_true, y_pred))\n",
    "    print(f'R2: {r2_score:.2f}')    "
   ]
  },
  {
   "cell_type": "markdown",
   "metadata": {},
   "source": [
    "#### Unscaled Data"
   ]
  },
  {
   "cell_type": "code",
   "execution_count": 35,
   "metadata": {},
   "outputs": [
    {
     "name": "stdout",
     "output_type": "stream",
     "text": [
      "[-9.43539012e-01  3.57495491e-02  1.64272726e-02 -2.60743659e-07\n",
      " -1.16902127e-02]\n",
      "RMSE: 0.34\n",
      "R2: 0.66\n"
     ]
    }
   ],
   "source": [
    "X = df[['age', 'gender', 'income', 'family_members']].to_numpy()\n",
    "y = df['insurance_benefits'].to_numpy()\n",
    "\n",
    "X_train, X_test, y_train, y_test = train_test_split(X, y, test_size=0.3, random_state=12345)\n",
    "\n",
    "lr = MyLinearRegression()\n",
    "\n",
    "lr.fit(X_train, y_train)\n",
    "print(lr.weights)\n",
    "\n",
    "y_test_pred = lr.predict(X_test)\n",
    "eval_regressor(y_test, y_test_pred)"
   ]
  },
  {
   "cell_type": "markdown",
   "metadata": {},
   "source": [
    "#### Scaled Data"
   ]
  },
  {
   "cell_type": "code",
   "execution_count": 36,
   "metadata": {},
   "outputs": [
    {
     "name": "stdout",
     "output_type": "stream",
     "text": [
      "[-0.94353901  2.32372069  0.01642727 -0.02059875 -0.07014128]\n",
      "RMSE: 0.34\n",
      "R2: 0.66\n"
     ]
    }
   ],
   "source": [
    "X = df_scaled[['age', 'gender', 'income', 'family_members']].to_numpy()\n",
    "y = df_scaled['insurance_benefits'].to_numpy()\n",
    "\n",
    "X_train, X_test, y_train, y_test = train_test_split(X, y, test_size=0.3, random_state=12345)\n",
    "\n",
    "lr = MyLinearRegression()\n",
    "\n",
    "lr.fit(X_train, y_train)\n",
    "print(lr.weights)\n",
    "\n",
    "y_test_pred = lr.predict(X_test)\n",
    "eval_regressor(y_test, y_test_pred)"
   ]
  },
  {
   "cell_type": "markdown",
   "metadata": {},
   "source": [
    "#### Conclusion\n",
    "We built our implementation of the linear regression and calculated the root mean square error (RMSE) and coefficient of determination (\n",
    " score) for both the original data and the scaled one. We can see that there is no difference in RMSE and \n",
    " score between these two cases."
   ]
  },
  {
   "cell_type": "markdown",
   "metadata": {},
   "source": [
    "### Task 4. Obfuscating Data"
   ]
  },
  {
   "cell_type": "markdown",
   "metadata": {},
   "source": [
    "It best to obfuscate data by multiplying the numerical features (remember, they can be seen as the matrix $X$) by an invertible matrix $P$. \n",
    "\n",
    "$$\n",
    "X' = X \\times P\n",
    "$$\n",
    "\n",
    "Try to do that and check how the features' values will look like after the transformation. By the way, the intertible property is important here so make sure that $P$ is indeed invertible.\n",
    "\n",
    "You may want to review the 'Matrices and Matrix Operations -> Matrix Multiplication' lesson to recall the rule of matrix multiplication and its implementation with NumPy."
   ]
  },
  {
   "cell_type": "code",
   "execution_count": 37,
   "metadata": {},
   "outputs": [],
   "source": [
    "# read in the data\n",
    "\n",
    "personal_info_column_list = ['gender', 'age', 'income', 'family_members']\n",
    "df_pn = df[personal_info_column_list]"
   ]
  },
  {
   "cell_type": "code",
   "execution_count": 38,
   "metadata": {},
   "outputs": [],
   "source": [
    "X = df_pn.to_numpy()"
   ]
  },
  {
   "cell_type": "markdown",
   "metadata": {},
   "source": [
    "Generating a random matrix $P$."
   ]
  },
  {
   "cell_type": "code",
   "execution_count": 39,
   "metadata": {},
   "outputs": [],
   "source": [
    "rng = np.random.default_rng(seed=42)\n",
    "P = rng.random(size=(X.shape[1], X.shape[1]))"
   ]
  },
  {
   "cell_type": "markdown",
   "metadata": {},
   "source": [
    "Checking the matrix $P$ is invertible"
   ]
  },
  {
   "cell_type": "code",
   "execution_count": 40,
   "metadata": {},
   "outputs": [
    {
     "data": {
      "text/plain": [
       "array([[ 1.00000000e+00,  1.85130588e-16, -2.97856902e-16,\n",
       "        -3.91584367e-17],\n",
       "       [ 6.23834470e-17,  1.00000000e+00, -7.10568689e-17,\n",
       "         8.24459807e-17],\n",
       "       [ 1.03941594e-17,  2.27454503e-17,  1.00000000e+00,\n",
       "        -5.77784356e-17],\n",
       "       [-1.02697151e-16, -1.69379178e-16, -2.49945035e-17,\n",
       "         1.00000000e+00]])"
      ]
     },
     "execution_count": 40,
     "metadata": {},
     "output_type": "execute_result"
    }
   ],
   "source": [
    "# checking if matrix P is invertible\n",
    "np.matmul(P, np.linalg.inv(P))\n"
   ]
  },
  {
   "cell_type": "markdown",
   "metadata": {},
   "source": [
    "We see that the matrix P is invertible because when we multiply P by its inverse P\n",
    ", we have ones through the diagonal."
   ]
  },
  {
   "cell_type": "markdown",
   "metadata": {},
   "source": [
    "Can you guess the customers' ages or income after the transformation?"
   ]
  },
  {
   "cell_type": "code",
   "execution_count": 41,
   "metadata": {},
   "outputs": [
    {
     "data": {
      "text/plain": [
       "array([[ 6359.71527314, 22380.40467609, 18424.09074184, 46000.69669016],\n",
       "       [ 4873.29406479, 17160.36702982, 14125.78076133, 35253.45577301],\n",
       "       [ 2693.11742928,  9486.397744  ,  7808.83156024, 19484.86063067],\n",
       "       ...,\n",
       "       [ 4346.2234249 , 15289.24126492, 12586.16264392, 31433.50888552],\n",
       "       [ 4194.09324155, 14751.9910242 , 12144.02930637, 30323.88763426],\n",
       "       [ 5205.46827354, 18314.24814446, 15077.01370762, 37649.59295455]])"
      ]
     },
     "execution_count": 41,
     "metadata": {},
     "output_type": "execute_result"
    }
   ],
   "source": [
    "# get transformed data X'\n",
    "X_prime = np.matmul(X, P)\n",
    "X_prime"
   ]
  },
  {
   "cell_type": "markdown",
   "metadata": {},
   "source": [
    "Can you recover the original data from $X'$ if you know $P$? Try to check that with calculations by moving $P$ from the right side of the formula above to the left one. The rules of matrix multiplcation are really helpful here."
   ]
  },
  {
   "cell_type": "code",
   "execution_count": 42,
   "metadata": {},
   "outputs": [
    {
     "data": {
      "text/plain": [
       "array([[ 1.00000000e+00,  4.10000000e+01,  4.96000000e+04,\n",
       "         1.00000000e+00],\n",
       "       [ 1.67952800e-12,  4.60000000e+01,  3.80000000e+04,\n",
       "         1.00000000e+00],\n",
       "       [-6.23021448e-13,  2.90000000e+01,  2.10000000e+04,\n",
       "        -2.03032656e-13],\n",
       "       ...,\n",
       "       [ 1.57996161e-12,  2.00000000e+01,  3.39000000e+04,\n",
       "         2.00000000e+00],\n",
       "       [ 1.00000000e+00,  2.20000000e+01,  3.27000000e+04,\n",
       "         3.00000000e+00],\n",
       "       [ 1.00000000e+00,  2.80000000e+01,  4.06000000e+04,\n",
       "         1.00000000e+00]])"
      ]
     },
     "execution_count": 42,
     "metadata": {},
     "output_type": "execute_result"
    }
   ],
   "source": [
    "# recover original data from X'\n",
    "X_rec = X_prime.dot(np.linalg.inv(P))\n",
    "X_rec"
   ]
  },
  {
   "cell_type": "markdown",
   "metadata": {},
   "source": [
    "Print all three cases for a few customers\n",
    "- The original data\n",
    "- The transformed one\n",
    "- The reversed (recovered) one"
   ]
  },
  {
   "cell_type": "code",
   "execution_count": 43,
   "metadata": {},
   "outputs": [
    {
     "name": "stdout",
     "output_type": "stream",
     "text": [
      "Original data\n",
      "[[1.00e+00 4.10e+01 4.96e+04 1.00e+00]\n",
      " [0.00e+00 4.60e+01 3.80e+04 1.00e+00]\n",
      " [0.00e+00 2.90e+01 2.10e+04 0.00e+00]]\n",
      "\n",
      "Transformed data\n",
      "[[ 6359.71527314 22380.40467609 18424.09074184 46000.69669016]\n",
      " [ 4873.29406479 17160.36702982 14125.78076133 35253.45577301]\n",
      " [ 2693.11742928  9486.397744    7808.83156024 19484.86063067]]\n",
      "\n",
      "Reversed (recovered) data\n",
      "[[ 1.00000000e+00  4.10000000e+01  4.96000000e+04  1.00000000e+00]\n",
      " [ 1.67952800e-12  4.60000000e+01  3.80000000e+04  1.00000000e+00]\n",
      " [-6.23021448e-13  2.90000000e+01  2.10000000e+04 -2.03032656e-13]]\n"
     ]
    }
   ],
   "source": [
    "print('Original data')\n",
    "print(X[:3])\n",
    "print()\n",
    "print('Transformed data')\n",
    "print(X_prime[:3])\n",
    "print()\n",
    "print('Reversed (recovered) data')\n",
    "print(X_rec[:3])"
   ]
  },
  {
   "cell_type": "markdown",
   "metadata": {},
   "source": [
    "You can probably see that some values are not exactly the same as they are in the original data. What might be the reason for that?"
   ]
  },
  {
   "cell_type": "markdown",
   "metadata": {},
   "source": [
    "Some values are not the same as they were in the original data because of the transformation and precision of NumPy's calculation of the data close to zero."
   ]
  },
  {
   "cell_type": "markdown",
   "metadata": {},
   "source": [
    "## Proof That Data Obfuscation Can Work with LR"
   ]
  },
  {
   "cell_type": "markdown",
   "metadata": {},
   "source": [
    "The regression task has been solved with linear regression in this project. Your next task is to prove _analytically_ that the given obfuscation method won't affect linear regression in terms of predicted values i.e. their values will remain the same. Can you believe that? Well, you don't have to, you should prove it!"
   ]
  },
  {
   "cell_type": "markdown",
   "metadata": {},
   "source": [
    "So, the data is obfuscated and there is $X \\times P$ instead of just $X$ now. Consequently, there are other weights $w_P$ as\n",
    "$$\n",
    "w = (X^T X)^{-1} X^T y \\quad \\Rightarrow \\quad w_P = [(XP)^T XP]^{-1} (XP)^T y\n",
    "$$\n",
    "\n",
    "How would $w$ and $w_P$ be linked if you simplify the formula for $w_P$ above? \n",
    "\n",
    "What would be predicted values with $w_P$? \n",
    "\n",
    "What does that mean for the quality of linear regression if you measure it with RMSE?\n",
    "\n",
    "Check Appendix B Properties of Matrices in the end of the notebook. There are useful formulas in there!\n",
    "\n",
    "No code is necessary in this section, only analytical explanation!"
   ]
  },
  {
   "cell_type": "markdown",
   "metadata": {},
   "source": [
    "**Answer**"
   ]
  },
  {
   "cell_type": "markdown",
   "metadata": {},
   "source": [
    "We have \n",
    " and  are the same, so the RMSE calculated for both the transformed and non transformed dataset will remain the same.\n",
    "And the quality of linear regression measured with RMSE will be similar."
   ]
  },
  {
   "cell_type": "markdown",
   "metadata": {},
   "source": [
    "**Analytical proof**"
   ]
  },
  {
   "cell_type": "markdown",
   "metadata": {},
   "source": [
    "**How would $w$ and $w_p$  be linked if you simplify the formular for above?**"
   ]
  },
  {
   "cell_type": "markdown",
   "metadata": {},
   "source": [
    "- Given:\n",
    "\n",
    "$ w_p = [(XP)^T XP]^{-1}(XP)^Ty \\qquad \\qquad (1)$\n",
    "\n",
    "- Expand $ (XP)^T$ using reversivity of transpose property\n",
    "\n",
    "$w_p = [P^T X^T XP]^{-1} P^T X^T y\\qquad \\qquad(2)$\n",
    "\n",
    "- Rearrange square bracket\n",
    "\n",
    "$w_p = (P^T (X^T X) P)^{-1} P^T X^T y \\qquad \\qquad(3)$\n",
    "\n",
    "- and expand the bracket $(P^T (X^T X) P)^{-1}$ as\n",
    "\n",
    "$ w_p = P^{-1} (X^T X)^{-1} (P^T)^{-1} P^T X^T y \\qquad \\qquad(4)$\n",
    "\n",
    "- Since $(P^T)^{-1} P^T = P^T (P^T)^{-1}  = I$\n",
    "\n",
    "$w_p = P^{-1} (X^T X)^{-1} I X^T y \\qquad \\qquad(5)$\n",
    "\n",
    "- applying multiplicative identity property $I X^T = X^T I = X^T$ then\n",
    "\n",
    "$w_p = P^{-1} (X^T X)^{-1} X^T y \\qquad \\qquad(6)$\n",
    "\n",
    "\n",
    "- subtituting $w = (X^T X)^{-1} X^T y$ into equation\n",
    "\n",
    "$\\therefore w_p = P^{-1} w \\qquad \\qquad(7)$\n"
   ]
  },
  {
   "cell_type": "markdown",
   "metadata": {},
   "source": [
    "**What would be predicted values with $𝑤_p$?**"
   ]
  },
  {
   "cell_type": "markdown",
   "metadata": {},
   "source": [
    "- Given that\n",
    "\n",
    "$ a = Xw$\n",
    "\n",
    "- is similar to\n",
    "\n",
    "$a' = X'w_p$\n",
    "- where\n",
    "\n",
    "$X' = XP$\n",
    "- and\n",
    "\n",
    "$w_p = P^{-1}w$\n",
    "\n",
    "- We substitute these values into to have:\n",
    "\n",
    "$ \\begin{align*}\n",
    "    a' &= XP.P^{-1}w = XIw \\\\\n",
    "    \\therefore a' &= Xw = a\n",
    "\\end{align*}$\n"
   ]
  },
  {
   "cell_type": "markdown",
   "metadata": {},
   "source": [
    "**What does that mean for the quality of linear regression if you measure it with RMSE?**\n",
    "\n",
    "Since $a'$ is the same as $a$ , we would expect the RMSE calculated for both the original and transformed dataset to be the same. The quality of linear regression measured using RMSE will be similar."
   ]
  },
  {
   "cell_type": "markdown",
   "metadata": {},
   "source": [
    "## Test Linear Regression With Data Obfuscation"
   ]
  },
  {
   "cell_type": "markdown",
   "metadata": {},
   "source": [
    "Now, let's prove Linear Regression can work computationally with the chosen obfuscation transformation.\n",
    "\n",
    "Build a procedure or a class that runs Linear Regression optionally with the obfuscation. You can use either a ready implementation of Linear Regression from sciki-learn or your own.\n",
    "\n",
    "Run Linear Regression for the original data and the obfuscated one, compare the predicted values and the RMSE, $R^2$ metric values. Is there any difference?"
   ]
  },
  {
   "cell_type": "markdown",
   "metadata": {},
   "source": [
    "**Procedure**\n",
    "\n",
    "- Create a square matrix $P$ of random numbers.\n",
    "- Check that it is invertible. If not, repeat the first point until we get an invertible matrix.\n",
    "- <! your comment here !>\n",
    "- Use $XP$ as the new feature matrix"
   ]
  },
  {
   "cell_type": "code",
   "execution_count": 44,
   "metadata": {},
   "outputs": [
    {
     "data": {
      "text/plain": [
       "array([[0.77395605, 0.43887844, 0.85859792, 0.69736803],\n",
       "       [0.09417735, 0.97562235, 0.7611397 , 0.78606431],\n",
       "       [0.12811363, 0.45038594, 0.37079802, 0.92676499],\n",
       "       [0.64386512, 0.82276161, 0.4434142 , 0.22723872]])"
      ]
     },
     "execution_count": 44,
     "metadata": {},
     "output_type": "execute_result"
    }
   ],
   "source": [
    "# square matrix P of random numbers\n",
    "rng = np.random.default_rng(seed=42)\n",
    "P = rng.random(size=(X.shape[1], X.shape[1]))\n",
    "P"
   ]
  },
  {
   "cell_type": "code",
   "execution_count": 45,
   "metadata": {},
   "outputs": [
    {
     "data": {
      "text/plain": [
       "array([[ 1.00000000e+00,  1.85130588e-16, -2.97856902e-16,\n",
       "        -3.91584367e-17],\n",
       "       [ 6.23834470e-17,  1.00000000e+00, -7.10568689e-17,\n",
       "         8.24459807e-17],\n",
       "       [ 1.03941594e-17,  2.27454503e-17,  1.00000000e+00,\n",
       "        -5.77784356e-17],\n",
       "       [-1.02697151e-16, -1.69379178e-16, -2.49945035e-17,\n",
       "         1.00000000e+00]])"
      ]
     },
     "execution_count": 45,
     "metadata": {},
     "output_type": "execute_result"
    }
   ],
   "source": [
    "# checking if matrix P is invertible\n",
    "np.matmul(P, np.linalg.inv(P))"
   ]
  },
  {
   "cell_type": "code",
   "execution_count": 46,
   "metadata": {},
   "outputs": [],
   "source": [
    "personal_info_column_list = ['gender', 'age', 'income', 'family_members']\n",
    "df_pn = df[personal_info_column_list]\n",
    "\n",
    "# features\n",
    "X = df_pn.to_numpy()\n",
    "\n",
    "# target\n",
    "y = df[\"insurance_benefits\"].to_numpy()"
   ]
  },
  {
   "cell_type": "code",
   "execution_count": 47,
   "metadata": {},
   "outputs": [
    {
     "name": "stdout",
     "output_type": "stream",
     "text": [
      "[-9.43539012e-01  1.64272726e-02  3.57495491e-02 -2.60743659e-07\n",
      " -1.16902127e-02]\n",
      "RMSE: 0.34\n",
      "R2: 0.66\n"
     ]
    }
   ],
   "source": [
    "# linear regression on original data\n",
    "\n",
    "X_train, X_test, y_train, y_test = train_test_split(X, y, test_size=0.3, random_state=12345)\n",
    "\n",
    "lr = MyLinearRegression()\n",
    "\n",
    "lr.fit(X_train, y_train)\n",
    "print(lr.weights)\n",
    "\n",
    "y_test_pred = lr.predict(X_test)\n",
    "eval_regressor(y_test, y_test_pred)\n"
   ]
  },
  {
   "cell_type": "code",
   "execution_count": 48,
   "metadata": {
    "scrolled": true
   },
   "outputs": [
    {
     "name": "stdout",
     "output_type": "stream",
     "text": [
      "[-0.94353904 -0.05791721 -0.01546571  0.09871894 -0.02397536]\n",
      "RMSE: 0.34\n",
      "R2: 0.66\n"
     ]
    }
   ],
   "source": [
    "# linear regression on obfuscated data\n",
    "X_prime = X.dot(P)\n",
    "\n",
    "X_train_obs, X_test_obs, y_train_obs, y_test_obs = train_test_split(X_prime, y, test_size=0.3, random_state=12345)\n",
    "\n",
    "lr = MyLinearRegression()\n",
    "\n",
    "lr.fit(X_train_obs, y_train_obs)\n",
    "print(lr.weights)\n",
    "\n",
    "y_test_pred = lr.predict(X_test_obs)\n",
    "eval_regressor(y_test_obs, y_test_pred)"
   ]
  },
  {
   "cell_type": "markdown",
   "metadata": {},
   "source": [
    "We proved mathematically that the RMSE and \n",
    " score for original and obfuscated data should be the same. Now using computational means, we obtained similar RMSE of 0.34 and \n",
    " score of 0.66 for both original and obfuscated data."
   ]
  },
  {
   "cell_type": "markdown",
   "metadata": {},
   "source": [
    "## Conclusion"
   ]
  },
  {
   "cell_type": "markdown",
   "metadata": {},
   "source": [
    "The data was successfully loaded and consists of 5000 rows and 5 columns. The columns were renamed the age column was converted  from float to int datatype. We performed exploratory data analysis on the data and determined whether scaling affects the kNN algorithm. feature scaling is important for kNN algorithms as it calculates distances between data. Similarly, kNN with euclidean distance is sensitive to magnitudes hence, the data should be scaled for all features to weigh in equally.\n",
    "\n",
    "A custom kNN classifier was built and measured its quality using the F1 metric for both the original data and the scaled data. For both the original and unscaled data, k influences the evaluation metric. The higher the value of k the lower the F1 score recorded. In general, the scaled data gave higher F1 score than the unscaled data so scaling should be done to obtain a better F1 score. The dummy model gave the highest F1-score of 0.2 at a probability value of 1. This model predicted that all customers will benefit from the insurance.\n",
    "\n",
    "Linear regression model was built which calculated the root mean square error (RMSE) and coefficient of determination ($R^2$ score) for both the original data and the scaled data. There is no difference in RMSE and $R^2$ score between these two cases. Whether the data is scaled or not, the evaluation metric still gave the same result in both cases.\n",
    "\n",
    "The data was obfuscated and obfuscation was proven analytically to work with linear regression. Computational approach by testing the linear regression with the obfuscated data. In both the original and obfuscated data, we obtained similar RMSE value of 0.34 and $R^2$ score of 0.66. This proves that predicted values, RMSE and  $R^2$ metric will be the same for both the original and obfuscated data."
   ]
  },
  {
   "cell_type": "markdown",
   "metadata": {},
   "source": [
    "# Appendices \n",
    "\n",
    "## Appendix A: Writing Formulas in Jupyter Notebooks"
   ]
  },
  {
   "cell_type": "markdown",
   "metadata": {},
   "source": [
    "You can write formulas in your Jupyter Notebook in a markup language provided by a high-quality publishing system called $\\LaTeX$ (pronounced \"Lah-tech\"), and they will look like formulas in textbooks.\n",
    "\n",
    "To put a formula in a text, put the dollar sign (\\\\$) before and after the formula's text e.g. $\\frac{1}{2} \\times \\frac{3}{2} = \\frac{3}{4}$ or $y = x^2, x \\ge 1$.\n",
    "\n",
    "If a formula should be in its own paragraph, put the double dollar sign (\\\\$\\\\$) before and after the formula text e.g.\n",
    "\n",
    "$$\n",
    "\\bar{x} = \\frac{1}{n}\\sum_{i=1}^{n} x_i.\n",
    "$$\n",
    "\n",
    "The markup language of [LaTeX](https://en.wikipedia.org/wiki/LaTeX) is very popular among people who use formulas in their articles, books and texts. It can be complex but its basics are easy. Check this two page [cheatsheet](http://tug.ctan.org/info/undergradmath/undergradmath.pdf) for learning how to compose the most common formulas."
   ]
  },
  {
   "cell_type": "markdown",
   "metadata": {},
   "source": [
    "## Appendix B: Properties of Matrices"
   ]
  },
  {
   "cell_type": "markdown",
   "metadata": {},
   "source": [
    "Matrices have many properties in Linear Algebra. A few of them are listed here which can help with the analytical proof in this project."
   ]
  },
  {
   "cell_type": "markdown",
   "metadata": {},
   "source": [
    "<table>\n",
    "<tr>\n",
    "<td>Distributivity</td><td>$A(B+C)=AB+AC$</td>\n",
    "</tr>\n",
    "<tr>\n",
    "<td>Non-commutativity</td><td>$AB \\neq BA$</td>\n",
    "</tr>\n",
    "<tr>\n",
    "<td>Associative property of multiplication</td><td>$(AB)C = A(BC)$</td>\n",
    "</tr>\n",
    "<tr>\n",
    "<td>Multiplicative identity property</td><td>$IA = AI = A$</td>\n",
    "</tr>\n",
    "<tr>\n",
    "<td></td><td>$A^{-1}A = AA^{-1} = I$\n",
    "</td>\n",
    "</tr>    \n",
    "<tr>\n",
    "<td></td><td>$(AB)^{-1} = B^{-1}A^{-1}$</td>\n",
    "</tr>    \n",
    "<tr>\n",
    "<td>Reversivity of the transpose of a product of matrices,</td><td>$(AB)^T = B^TA^T$</td>\n",
    "</tr>    \n",
    "</table>"
   ]
  }
 ],
 "metadata": {
  "ExecuteTimeLog": [
   {
    "duration": 39,
    "start_time": "2022-09-12T01:09:56.422Z"
   },
   {
    "duration": 2255,
    "start_time": "2022-09-12T01:10:00.223Z"
   },
   {
    "duration": 1204,
    "start_time": "2022-09-12T01:10:02.480Z"
   },
   {
    "duration": 29,
    "start_time": "2022-09-12T01:10:03.685Z"
   },
   {
    "duration": 4,
    "start_time": "2022-09-12T01:10:03.716Z"
   },
   {
    "duration": 16,
    "start_time": "2022-09-12T01:10:03.722Z"
   },
   {
    "duration": 11,
    "start_time": "2022-09-12T01:10:03.739Z"
   },
   {
    "duration": 3,
    "start_time": "2022-09-12T01:10:03.752Z"
   },
   {
    "duration": 12,
    "start_time": "2022-09-12T01:10:03.756Z"
   },
   {
    "duration": 46,
    "start_time": "2022-09-12T01:10:03.770Z"
   },
   {
    "duration": 6,
    "start_time": "2022-09-12T01:10:03.817Z"
   },
   {
    "duration": 3285,
    "start_time": "2022-09-12T01:10:03.824Z"
   },
   {
    "duration": 2,
    "start_time": "2022-09-12T01:10:07.111Z"
   },
   {
    "duration": 5,
    "start_time": "2022-09-12T01:10:07.115Z"
   },
   {
    "duration": 11,
    "start_time": "2022-09-12T01:10:07.123Z"
   },
   {
    "duration": 9,
    "start_time": "2022-09-12T01:10:07.136Z"
   },
   {
    "duration": 14,
    "start_time": "2022-09-12T01:10:07.147Z"
   },
   {
    "duration": 14,
    "start_time": "2022-09-12T01:10:07.162Z"
   },
   {
    "duration": 14,
    "start_time": "2022-09-12T01:10:07.206Z"
   },
   {
    "duration": 14,
    "start_time": "2022-09-12T01:10:07.222Z"
   },
   {
    "duration": 3,
    "start_time": "2022-09-12T01:10:07.237Z"
   },
   {
    "duration": 8,
    "start_time": "2022-09-12T01:10:07.241Z"
   },
   {
    "duration": 4,
    "start_time": "2022-09-12T01:10:07.250Z"
   },
   {
    "duration": 6,
    "start_time": "2022-09-12T01:10:07.255Z"
   },
   {
    "duration": 8,
    "start_time": "2022-09-12T01:10:07.263Z"
   },
   {
    "duration": 8,
    "start_time": "2022-09-12T01:10:07.273Z"
   },
   {
    "duration": 36,
    "start_time": "2022-09-12T01:10:07.306Z"
   },
   {
    "duration": 38,
    "start_time": "2022-09-12T01:10:07.343Z"
   },
   {
    "duration": 328,
    "start_time": "2022-09-12T01:10:07.406Z"
   },
   {
    "duration": 9,
    "start_time": "2022-09-12T01:10:07.736Z"
   },
   {
    "duration": 404,
    "start_time": "2022-09-12T01:10:07.747Z"
   },
   {
    "duration": 142,
    "start_time": "2022-09-12T01:10:08.153Z"
   },
   {
    "duration": 16,
    "start_time": "2022-09-12T01:10:08.297Z"
   },
   {
    "duration": 4,
    "start_time": "2022-09-12T01:10:08.315Z"
   },
   {
    "duration": 5,
    "start_time": "2022-09-12T01:10:08.320Z"
   },
   {
    "duration": 9,
    "start_time": "2022-09-12T01:10:08.326Z"
   },
   {
    "duration": 74,
    "start_time": "2022-09-12T01:10:08.336Z"
   },
   {
    "duration": 4,
    "start_time": "2022-09-12T01:10:08.413Z"
   },
   {
    "duration": 3,
    "start_time": "2022-09-12T01:10:54.955Z"
   },
   {
    "duration": 3,
    "start_time": "2022-09-12T01:10:56.129Z"
   },
   {
    "duration": 4,
    "start_time": "2022-09-12T01:12:42.140Z"
   },
   {
    "duration": 5,
    "start_time": "2022-09-12T01:25:49.080Z"
   },
   {
    "duration": 5,
    "start_time": "2022-09-12T01:26:36.665Z"
   },
   {
    "duration": 5,
    "start_time": "2022-09-12T01:26:58.103Z"
   },
   {
    "duration": 5,
    "start_time": "2022-09-12T01:27:41.090Z"
   },
   {
    "duration": 87,
    "start_time": "2022-09-12T01:27:59.704Z"
   },
   {
    "duration": 4,
    "start_time": "2022-09-12T01:34:16.785Z"
   },
   {
    "duration": 4,
    "start_time": "2022-09-12T01:34:24.573Z"
   },
   {
    "duration": 6,
    "start_time": "2022-09-12T01:35:41.933Z"
   },
   {
    "duration": 4,
    "start_time": "2022-09-12T01:36:01.671Z"
   },
   {
    "duration": 7,
    "start_time": "2022-09-12T01:36:03.195Z"
   },
   {
    "duration": 7,
    "start_time": "2022-09-12T01:36:05.565Z"
   },
   {
    "duration": 2204,
    "start_time": "2022-09-12T02:55:59.184Z"
   },
   {
    "duration": 1123,
    "start_time": "2022-09-12T02:56:01.390Z"
   },
   {
    "duration": 28,
    "start_time": "2022-09-12T02:56:02.514Z"
   },
   {
    "duration": 3,
    "start_time": "2022-09-12T02:56:02.543Z"
   },
   {
    "duration": 22,
    "start_time": "2022-09-12T02:56:02.548Z"
   },
   {
    "duration": 9,
    "start_time": "2022-09-12T02:56:02.571Z"
   },
   {
    "duration": 2,
    "start_time": "2022-09-12T02:56:02.582Z"
   },
   {
    "duration": 10,
    "start_time": "2022-09-12T02:56:02.586Z"
   },
   {
    "duration": 19,
    "start_time": "2022-09-12T02:56:02.597Z"
   },
   {
    "duration": 4,
    "start_time": "2022-09-12T02:56:02.618Z"
   },
   {
    "duration": 3211,
    "start_time": "2022-09-12T02:56:02.624Z"
   },
   {
    "duration": 3,
    "start_time": "2022-09-12T02:56:05.837Z"
   },
   {
    "duration": 5,
    "start_time": "2022-09-12T02:56:05.842Z"
   },
   {
    "duration": 14,
    "start_time": "2022-09-12T02:56:05.849Z"
   },
   {
    "duration": 11,
    "start_time": "2022-09-12T02:56:05.865Z"
   },
   {
    "duration": 41,
    "start_time": "2022-09-12T02:56:05.878Z"
   },
   {
    "duration": 16,
    "start_time": "2022-09-12T02:56:05.921Z"
   },
   {
    "duration": 17,
    "start_time": "2022-09-12T02:56:05.938Z"
   },
   {
    "duration": 17,
    "start_time": "2022-09-12T02:56:05.956Z"
   },
   {
    "duration": 3,
    "start_time": "2022-09-12T02:56:05.974Z"
   },
   {
    "duration": 7,
    "start_time": "2022-09-12T02:56:06.006Z"
   },
   {
    "duration": 9,
    "start_time": "2022-09-12T02:56:06.015Z"
   },
   {
    "duration": 18,
    "start_time": "2022-09-12T02:56:06.026Z"
   },
   {
    "duration": 12,
    "start_time": "2022-09-12T02:56:06.045Z"
   },
   {
    "duration": 8,
    "start_time": "2022-09-12T02:56:06.059Z"
   },
   {
    "duration": 56,
    "start_time": "2022-09-12T02:56:06.068Z"
   },
   {
    "duration": 38,
    "start_time": "2022-09-12T02:56:06.125Z"
   },
   {
    "duration": 363,
    "start_time": "2022-09-12T02:56:06.166Z"
   },
   {
    "duration": 13,
    "start_time": "2022-09-12T02:56:06.530Z"
   },
   {
    "duration": 411,
    "start_time": "2022-09-12T02:56:06.544Z"
   },
   {
    "duration": 156,
    "start_time": "2022-09-12T02:56:06.956Z"
   },
   {
    "duration": 15,
    "start_time": "2022-09-12T02:56:07.114Z"
   },
   {
    "duration": 4,
    "start_time": "2022-09-12T02:56:07.130Z"
   },
   {
    "duration": 8,
    "start_time": "2022-09-12T02:56:07.135Z"
   },
   {
    "duration": 9,
    "start_time": "2022-09-12T02:56:07.144Z"
   },
   {
    "duration": 57,
    "start_time": "2022-09-12T02:56:07.154Z"
   },
   {
    "duration": 93,
    "start_time": "2022-09-12T02:56:07.213Z"
   },
   {
    "duration": 6,
    "start_time": "2022-09-12T02:56:07.308Z"
   },
   {
    "duration": 5,
    "start_time": "2022-09-12T02:56:07.315Z"
   },
   {
    "duration": 88,
    "start_time": "2022-09-12T02:56:07.321Z"
   },
   {
    "duration": 9,
    "start_time": "2022-09-12T02:56:07.411Z"
   },
   {
    "duration": 89,
    "start_time": "2022-09-12T02:56:07.421Z"
   },
   {
    "duration": 7,
    "start_time": "2022-09-12T02:56:07.512Z"
   },
   {
    "duration": 87,
    "start_time": "2022-09-12T02:56:07.520Z"
   },
   {
    "duration": 10,
    "start_time": "2022-09-12T02:56:07.609Z"
   },
   {
    "duration": 86,
    "start_time": "2022-09-12T02:56:07.621Z"
   },
   {
    "duration": 9,
    "start_time": "2022-09-12T02:56:07.709Z"
   },
   {
    "duration": 89,
    "start_time": "2022-09-12T02:56:07.720Z"
   },
   {
    "duration": 6339,
    "start_time": "2022-09-12T08:50:11.320Z"
   },
   {
    "duration": 1261,
    "start_time": "2022-09-12T08:50:17.661Z"
   },
   {
    "duration": 62,
    "start_time": "2022-09-12T08:50:18.924Z"
   },
   {
    "duration": 4,
    "start_time": "2022-09-12T08:50:18.989Z"
   },
   {
    "duration": 38,
    "start_time": "2022-09-12T08:50:18.995Z"
   },
   {
    "duration": 28,
    "start_time": "2022-09-12T08:50:19.034Z"
   },
   {
    "duration": 28,
    "start_time": "2022-09-12T08:50:19.064Z"
   },
   {
    "duration": 39,
    "start_time": "2022-09-12T08:50:19.093Z"
   },
   {
    "duration": 41,
    "start_time": "2022-09-12T08:50:19.133Z"
   },
   {
    "duration": 12,
    "start_time": "2022-09-12T08:50:19.176Z"
   },
   {
    "duration": 3185,
    "start_time": "2022-09-12T08:50:19.189Z"
   },
   {
    "duration": 2,
    "start_time": "2022-09-12T08:50:22.376Z"
   },
   {
    "duration": 28,
    "start_time": "2022-09-12T08:50:22.379Z"
   },
   {
    "duration": 30,
    "start_time": "2022-09-12T08:50:22.408Z"
   },
   {
    "duration": 21,
    "start_time": "2022-09-12T08:50:22.440Z"
   },
   {
    "duration": 24,
    "start_time": "2022-09-12T08:50:22.463Z"
   },
   {
    "duration": 17,
    "start_time": "2022-09-12T08:50:22.489Z"
   },
   {
    "duration": 34,
    "start_time": "2022-09-12T08:50:22.507Z"
   },
   {
    "duration": 40,
    "start_time": "2022-09-12T08:50:22.542Z"
   },
   {
    "duration": 21,
    "start_time": "2022-09-12T08:50:22.584Z"
   },
   {
    "duration": 36,
    "start_time": "2022-09-12T08:50:22.607Z"
   },
   {
    "duration": 41,
    "start_time": "2022-09-12T08:50:22.645Z"
   },
   {
    "duration": 21,
    "start_time": "2022-09-12T08:50:22.688Z"
   },
   {
    "duration": 44,
    "start_time": "2022-09-12T08:50:22.711Z"
   },
   {
    "duration": 18,
    "start_time": "2022-09-12T08:50:22.757Z"
   },
   {
    "duration": 50,
    "start_time": "2022-09-12T08:50:22.776Z"
   },
   {
    "duration": 39,
    "start_time": "2022-09-12T08:50:22.827Z"
   },
   {
    "duration": 384,
    "start_time": "2022-09-12T08:50:22.869Z"
   },
   {
    "duration": 9,
    "start_time": "2022-09-12T08:50:23.255Z"
   },
   {
    "duration": 435,
    "start_time": "2022-09-12T08:50:23.265Z"
   },
   {
    "duration": 238,
    "start_time": "2022-09-12T08:50:23.702Z"
   },
   {
    "duration": 14,
    "start_time": "2022-09-12T08:50:23.942Z"
   },
   {
    "duration": 4,
    "start_time": "2022-09-12T08:50:23.957Z"
   },
   {
    "duration": 33,
    "start_time": "2022-09-12T08:50:23.963Z"
   },
   {
    "duration": 22,
    "start_time": "2022-09-12T08:50:23.997Z"
   },
   {
    "duration": 106,
    "start_time": "2022-09-12T08:50:24.022Z"
   },
   {
    "duration": 5,
    "start_time": "2022-09-12T08:50:24.130Z"
   },
   {
    "duration": 12,
    "start_time": "2022-09-12T08:50:24.222Z"
   },
   {
    "duration": 92,
    "start_time": "2022-09-12T08:50:24.236Z"
   },
   {
    "duration": 22,
    "start_time": "2022-09-12T08:50:24.329Z"
   },
   {
    "duration": 16,
    "start_time": "2022-09-12T08:50:24.353Z"
   },
   {
    "duration": 102,
    "start_time": "2022-09-12T08:50:24.421Z"
   },
   {
    "duration": 97,
    "start_time": "2022-09-12T08:50:24.525Z"
   },
   {
    "duration": 14,
    "start_time": "2022-09-12T08:50:24.625Z"
   },
   {
    "duration": 20,
    "start_time": "2022-09-12T08:50:24.641Z"
   },
   {
    "duration": 61,
    "start_time": "2022-09-12T08:50:24.662Z"
   },
   {
    "duration": 9,
    "start_time": "2022-09-12T08:50:24.726Z"
   },
   {
    "duration": 91,
    "start_time": "2022-09-12T08:50:24.737Z"
   },
   {
    "duration": 139,
    "start_time": "2022-09-12T08:50:40.130Z"
   },
   {
    "duration": 47,
    "start_time": "2022-09-12T18:15:24.547Z"
   },
   {
    "duration": 6832,
    "start_time": "2022-09-12T18:15:28.571Z"
   },
   {
    "duration": 1457,
    "start_time": "2022-09-12T18:15:35.405Z"
   },
   {
    "duration": 112,
    "start_time": "2022-09-12T18:15:36.865Z"
   },
   {
    "duration": 5,
    "start_time": "2022-09-12T18:15:36.980Z"
   },
   {
    "duration": 18,
    "start_time": "2022-09-12T18:15:36.987Z"
   },
   {
    "duration": 13,
    "start_time": "2022-09-12T18:15:37.007Z"
   },
   {
    "duration": 4,
    "start_time": "2022-09-12T18:15:37.022Z"
   },
   {
    "duration": 11,
    "start_time": "2022-09-12T18:15:37.029Z"
   },
   {
    "duration": 59,
    "start_time": "2022-09-12T18:15:37.043Z"
   },
   {
    "duration": 6,
    "start_time": "2022-09-12T18:15:37.105Z"
   },
   {
    "duration": 3698,
    "start_time": "2022-09-12T18:15:37.113Z"
   },
   {
    "duration": 3,
    "start_time": "2022-09-12T18:15:40.813Z"
   },
   {
    "duration": 9,
    "start_time": "2022-09-12T18:15:40.818Z"
   },
   {
    "duration": 17,
    "start_time": "2022-09-12T18:15:40.829Z"
   },
   {
    "duration": 11,
    "start_time": "2022-09-12T18:15:40.848Z"
   },
   {
    "duration": 39,
    "start_time": "2022-09-12T18:15:40.861Z"
   },
   {
    "duration": 18,
    "start_time": "2022-09-12T18:15:40.902Z"
   },
   {
    "duration": 19,
    "start_time": "2022-09-12T18:15:40.922Z"
   },
   {
    "duration": 18,
    "start_time": "2022-09-12T18:15:40.943Z"
   },
   {
    "duration": 32,
    "start_time": "2022-09-12T18:15:40.963Z"
   },
   {
    "duration": 6,
    "start_time": "2022-09-12T18:15:40.997Z"
   },
   {
    "duration": 5,
    "start_time": "2022-09-12T18:15:41.005Z"
   },
   {
    "duration": 9,
    "start_time": "2022-09-12T18:15:41.011Z"
   },
   {
    "duration": 12,
    "start_time": "2022-09-12T18:15:41.021Z"
   },
   {
    "duration": 9,
    "start_time": "2022-09-12T18:15:41.035Z"
   },
   {
    "duration": 68,
    "start_time": "2022-09-12T18:15:41.046Z"
   },
   {
    "duration": 47,
    "start_time": "2022-09-12T18:15:41.116Z"
   },
   {
    "duration": 400,
    "start_time": "2022-09-12T18:15:41.166Z"
   },
   {
    "duration": 9,
    "start_time": "2022-09-12T18:15:41.568Z"
   },
   {
    "duration": 510,
    "start_time": "2022-09-12T18:15:41.578Z"
   },
   {
    "duration": 202,
    "start_time": "2022-09-12T18:15:42.095Z"
   },
   {
    "duration": 167,
    "start_time": "2022-09-12T18:18:13.267Z"
   },
   {
    "duration": 169,
    "start_time": "2022-09-12T18:18:24.271Z"
   },
   {
    "duration": 168,
    "start_time": "2022-09-12T18:18:29.769Z"
   }
  ],
  "kernelspec": {
   "display_name": "Python 3 (ipykernel)",
   "language": "python",
   "name": "python3"
  },
  "language_info": {
   "codemirror_mode": {
    "name": "ipython",
    "version": 3
   },
   "file_extension": ".py",
   "mimetype": "text/x-python",
   "name": "python",
   "nbconvert_exporter": "python",
   "pygments_lexer": "ipython3",
   "version": "3.9.5"
  },
  "toc": {
   "base_numbering": 1,
   "nav_menu": {},
   "number_sections": false,
   "sideBar": true,
   "skip_h1_title": true,
   "title_cell": "Table of Contents",
   "title_sidebar": "Contents",
   "toc_cell": false,
   "toc_position": {
    "height": "calc(100% - 180px)",
    "left": "10px",
    "top": "150px",
    "width": "165px"
   },
   "toc_section_display": true,
   "toc_window_display": true
  }
 },
 "nbformat": 4,
 "nbformat_minor": 4
}
